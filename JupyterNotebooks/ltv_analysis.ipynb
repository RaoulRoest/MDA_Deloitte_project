{
 "cells": [
  {
   "cell_type": "code",
   "execution_count": 1,
   "metadata": {},
   "outputs": [],
   "source": [
    "import os\n",
    "import sys\n",
    "curDir = os.path.abspath(\"\")\n",
    "sys.path.append(os.path.join(curDir, \"..\", \"PreProcessing\"))\n",
    "sys.path.append(os.path.join(curDir, \"..\", \"General\"))\n",
    "\n",
    "import pandas as pd\n",
    "import numpy as np \n",
    "import matplotlib.pyplot as plt\n",
    "\n",
    "import DataSetBuilder as dataBuilder\n",
    "import matplotlib as mpl"
   ]
  },
  {
   "cell_type": "code",
   "execution_count": 2,
   "metadata": {},
   "outputs": [
    {
     "output_type": "stream",
     "name": "stdout",
     "text": [
      "20210529--21:58:07--INFO--Reading adjusted data files     ]
    }
   ],
   "source": [
    "years = [2013]\n",
    "dfOrig = dataBuilder.build_data_set(years=years)\n"
   ]
  },
  {
   "cell_type": "code",
   "execution_count": 3,
   "metadata": {},
   "outputs": [],
   "source": [
    "columnList = dfOrig.columns.to_list()"
   ]
  },
  {
   "cell_type": "code",
   "execution_count": 5,
   "metadata": {},
   "outputs": [],
   "source": [
    "class ColumnNames():\n",
    "    Type = \"prepayment_type\"\n",
    "    PpmFlag = \"prepayment_flag\"\n",
    "    Upb = \"orig_upb\"\n",
    "    Ltv = \"ltv\"\n",
    "    Int_rt = \"int_rt\"\n",
    "    Cltv = \"cltv\"\n",
    "    Prepayment=\"prepayment_flag\"\n",
    "    Prepaymenttype=\"prepayment_type\"\n",
    "\n",
    "\n",
    "columns = [\n",
    "    \"id_loan\", \n",
    "    \"ltv\",\n",
    "    \"loan_purpose_C\",\n",
    "    \"int_rt\",\n",
    "    \"cltv\",\n",
    "    ColumnNames.Upb,\n",
    "    ColumnNames.Type,\n",
    "    ColumnNames.PpmFlag,\n",
    "]\n",
    "dfTakeALook = dfOrig[columns]"
   ]
  },
  {
   "cell_type": "code",
   "execution_count": 6,
   "metadata": {
    "scrolled": false
   },
   "outputs": [
    {
     "output_type": "execute_result",
     "data": {
      "text/plain": [
       "            id_loan   ltv  loan_purpose_C  orig_upb  prepayment_type  \\\n",
       "0      F113Q1000201  74.0               0  149000.0                2   \n",
       "1      F113Q1000213  62.0               0   99000.0                2   \n",
       "2      F113Q1000226  80.0               0  134000.0                2   \n",
       "3      F113Q1000239  67.0               1  240000.0                2   \n",
       "4      F113Q1000276  90.0               0   86000.0                2   \n",
       "...             ...   ...             ...       ...              ...   \n",
       "49830  F113Q4221053  75.0               1  143000.0                0   \n",
       "49831  F113Q4221059  80.0               0  227000.0                0   \n",
       "49832  F113Q4221167  40.0               1   41000.0                0   \n",
       "49833  F113Q4221174  50.0               1   75000.0                0   \n",
       "49834  F113Q4221188  78.0               1  120000.0                0   \n",
       "\n",
       "       prepayment_flag  \n",
       "0                 True  \n",
       "1                 True  \n",
       "2                 True  \n",
       "3                 True  \n",
       "4                 True  \n",
       "...                ...  \n",
       "49830            False  \n",
       "49831            False  \n",
       "49832            False  \n",
       "49833            False  \n",
       "49834            False  \n",
       "\n",
       "[49835 rows x 6 columns]"
      ],
      "text/html": "<div>\n<style scoped>\n    .dataframe tbody tr th:only-of-type {\n        vertical-align: middle;\n    }\n\n    .dataframe tbody tr th {\n        vertical-align: top;\n    }\n\n    .dataframe thead th {\n        text-align: right;\n    }\n</style>\n<table border=\"1\" class=\"dataframe\">\n  <thead>\n    <tr style=\"text-align: right;\">\n      <th></th>\n      <th>id_loan</th>\n      <th>ltv</th>\n      <th>loan_purpose_C</th>\n      <th>orig_upb</th>\n      <th>prepayment_type</th>\n      <th>prepayment_flag</th>\n    </tr>\n  </thead>\n  <tbody>\n    <tr>\n      <th>0</th>\n      <td>F113Q1000201</td>\n      <td>74.0</td>\n      <td>0</td>\n      <td>149000.0</td>\n      <td>2</td>\n      <td>True</td>\n    </tr>\n    <tr>\n      <th>1</th>\n      <td>F113Q1000213</td>\n      <td>62.0</td>\n      <td>0</td>\n      <td>99000.0</td>\n      <td>2</td>\n      <td>True</td>\n    </tr>\n    <tr>\n      <th>2</th>\n      <td>F113Q1000226</td>\n      <td>80.0</td>\n      <td>0</td>\n      <td>134000.0</td>\n      <td>2</td>\n      <td>True</td>\n    </tr>\n    <tr>\n      <th>3</th>\n      <td>F113Q1000239</td>\n      <td>67.0</td>\n      <td>1</td>\n      <td>240000.0</td>\n      <td>2</td>\n      <td>True</td>\n    </tr>\n    <tr>\n      <th>4</th>\n      <td>F113Q1000276</td>\n      <td>90.0</td>\n      <td>0</td>\n      <td>86000.0</td>\n      <td>2</td>\n      <td>True</td>\n    </tr>\n    <tr>\n      <th>...</th>\n      <td>...</td>\n      <td>...</td>\n      <td>...</td>\n      <td>...</td>\n      <td>...</td>\n      <td>...</td>\n    </tr>\n    <tr>\n      <th>49830</th>\n      <td>F113Q4221053</td>\n      <td>75.0</td>\n      <td>1</td>\n      <td>143000.0</td>\n      <td>0</td>\n      <td>False</td>\n    </tr>\n    <tr>\n      <th>49831</th>\n      <td>F113Q4221059</td>\n      <td>80.0</td>\n      <td>0</td>\n      <td>227000.0</td>\n      <td>0</td>\n      <td>False</td>\n    </tr>\n    <tr>\n      <th>49832</th>\n      <td>F113Q4221167</td>\n      <td>40.0</td>\n      <td>1</td>\n      <td>41000.0</td>\n      <td>0</td>\n      <td>False</td>\n    </tr>\n    <tr>\n      <th>49833</th>\n      <td>F113Q4221174</td>\n      <td>50.0</td>\n      <td>1</td>\n      <td>75000.0</td>\n      <td>0</td>\n      <td>False</td>\n    </tr>\n    <tr>\n      <th>49834</th>\n      <td>F113Q4221188</td>\n      <td>78.0</td>\n      <td>1</td>\n      <td>120000.0</td>\n      <td>0</td>\n      <td>False</td>\n    </tr>\n  </tbody>\n</table>\n<p>49835 rows × 6 columns</p>\n</div>"
     },
     "metadata": {},
     "execution_count": 6
    }
   ],
   "source": [
    "dfTakeALook"
   ]
  },
  {
   "cell_type": "markdown",
   "metadata": {},
   "source": [
    "## LTV Description\n",
    "\n",
    "In the case of a purchase\n",
    "mortgage loan, the ratio obtained by dividing the original mortgage\n",
    "loan amount on the note date by the lesser of the mortgaged\n",
    "property’s appraised value on the note date or its purchase price.\n",
    "In the case of a refinance mortgage loan, the ratio obtained by dividing\n",
    "the original mortgage loan amount on the note date and the\n",
    "mortgaged property’s appraised value on the note date."
   ]
  },
  {
   "cell_type": "code",
   "execution_count": 10,
   "metadata": {},
   "outputs": [],
   "source": [
    "dfTakeALook = dfTakeALook.sort_values(\"ltv\")\n",
    "dfGrouped = dfTakeALook[dfTakeALook[ColumnNames.Type] == 2].groupby(\"ltv\")\n",
    "dfCumSum = dfGrouped.cumsum()\n",
    "dfCount = dfGrouped.count()"
   ]
  },
  {
   "cell_type": "code",
   "execution_count": 14,
   "metadata": {},
   "outputs": [
    {
     "output_type": "execute_result",
     "data": {
      "text/plain": [
       "            id_loan   ltv  loan_purpose_C  orig_upb  prepayment_type  \\\n",
       "48259  F113Q4192598   7.0               1   80000.0                2   \n",
       "41413  F113Q4072147   9.0               0   20000.0                2   \n",
       "49290  F113Q4211082   9.0               0  237000.0                2   \n",
       "28670  F113Q3320470  10.0               0   83000.0                2   \n",
       "7615   F113Q1252639  10.0               0   75000.0                2   \n",
       "...             ...   ...             ...       ...              ...   \n",
       "8111   F113Q1269284  95.0               0  304000.0                2   \n",
       "38047  F113Q4011531  95.0               0  217000.0                2   \n",
       "1503   F113Q1050197  95.0               0  333000.0                2   \n",
       "43562  F113Q4109662  95.0               0  409000.0                2   \n",
       "38012  F113Q4010883  95.0               0  167000.0                2   \n",
       "\n",
       "       prepayment_flag  \n",
       "48259             True  \n",
       "41413             True  \n",
       "49290             True  \n",
       "28670             True  \n",
       "7615              True  \n",
       "...                ...  \n",
       "8111              True  \n",
       "38047             True  \n",
       "1503              True  \n",
       "43562             True  \n",
       "38012             True  \n",
       "\n",
       "[24893 rows x 6 columns]"
      ],
      "text/html": "<div>\n<style scoped>\n    .dataframe tbody tr th:only-of-type {\n        vertical-align: middle;\n    }\n\n    .dataframe tbody tr th {\n        vertical-align: top;\n    }\n\n    .dataframe thead th {\n        text-align: right;\n    }\n</style>\n<table border=\"1\" class=\"dataframe\">\n  <thead>\n    <tr style=\"text-align: right;\">\n      <th></th>\n      <th>id_loan</th>\n      <th>ltv</th>\n      <th>loan_purpose_C</th>\n      <th>orig_upb</th>\n      <th>prepayment_type</th>\n      <th>prepayment_flag</th>\n    </tr>\n  </thead>\n  <tbody>\n    <tr>\n      <th>48259</th>\n      <td>F113Q4192598</td>\n      <td>7.0</td>\n      <td>1</td>\n      <td>80000.0</td>\n      <td>2</td>\n      <td>True</td>\n    </tr>\n    <tr>\n      <th>41413</th>\n      <td>F113Q4072147</td>\n      <td>9.0</td>\n      <td>0</td>\n      <td>20000.0</td>\n      <td>2</td>\n      <td>True</td>\n    </tr>\n    <tr>\n      <th>49290</th>\n      <td>F113Q4211082</td>\n      <td>9.0</td>\n      <td>0</td>\n      <td>237000.0</td>\n      <td>2</td>\n      <td>True</td>\n    </tr>\n    <tr>\n      <th>28670</th>\n      <td>F113Q3320470</td>\n      <td>10.0</td>\n      <td>0</td>\n      <td>83000.0</td>\n      <td>2</td>\n      <td>True</td>\n    </tr>\n    <tr>\n      <th>7615</th>\n      <td>F113Q1252639</td>\n      <td>10.0</td>\n      <td>0</td>\n      <td>75000.0</td>\n      <td>2</td>\n      <td>True</td>\n    </tr>\n    <tr>\n      <th>...</th>\n      <td>...</td>\n      <td>...</td>\n      <td>...</td>\n      <td>...</td>\n      <td>...</td>\n      <td>...</td>\n    </tr>\n    <tr>\n      <th>8111</th>\n      <td>F113Q1269284</td>\n      <td>95.0</td>\n      <td>0</td>\n      <td>304000.0</td>\n      <td>2</td>\n      <td>True</td>\n    </tr>\n    <tr>\n      <th>38047</th>\n      <td>F113Q4011531</td>\n      <td>95.0</td>\n      <td>0</td>\n      <td>217000.0</td>\n      <td>2</td>\n      <td>True</td>\n    </tr>\n    <tr>\n      <th>1503</th>\n      <td>F113Q1050197</td>\n      <td>95.0</td>\n      <td>0</td>\n      <td>333000.0</td>\n      <td>2</td>\n      <td>True</td>\n    </tr>\n    <tr>\n      <th>43562</th>\n      <td>F113Q4109662</td>\n      <td>95.0</td>\n      <td>0</td>\n      <td>409000.0</td>\n      <td>2</td>\n      <td>True</td>\n    </tr>\n    <tr>\n      <th>38012</th>\n      <td>F113Q4010883</td>\n      <td>95.0</td>\n      <td>0</td>\n      <td>167000.0</td>\n      <td>2</td>\n      <td>True</td>\n    </tr>\n  </tbody>\n</table>\n<p>24893 rows × 6 columns</p>\n</div>"
     },
     "metadata": {},
     "execution_count": 14
    }
   ],
   "source": [
    "dfTakeALook[dfTakeALook[ColumnNames.Type] == 2]"
   ]
  },
  {
   "cell_type": "code",
   "execution_count": 11,
   "metadata": {},
   "outputs": [
    {
     "output_type": "execute_result",
     "data": {
      "text/html": [
       "<div>\n",
       "<style scoped>\n",
       "    .dataframe tbody tr th:only-of-type {\n",
       "        vertical-align: middle;\n",
       "    }\n",
       "\n",
       "    .dataframe tbody tr th {\n",
       "        vertical-align: top;\n",
       "    }\n",
       "\n",
       "    .dataframe thead th {\n",
       "        text-align: right;\n",
       "    }\n",
       "</style>\n",
       "<table border=\"1\" class=\"dataframe\">\n",
       "  <thead>\n",
       "    <tr style=\"text-align: right;\">\n",
       "      <th></th>\n",
       "      <th>loan_purpose_C</th>\n",
       "      <th>int_rt</th>\n",
       "      <th>cltv</th>\n",
       "      <th>orig_upb</th>\n",
       "      <th>prepayment_flag</th>\n",
       "      <th>prepayment_type</th>\n",
       "      <th>Full</th>\n",
       "      <th>Partial</th>\n",
       "    </tr>\n",
       "    <tr>\n",
       "      <th>ltv</th>\n",
       "      <th></th>\n",
       "      <th></th>\n",
       "      <th></th>\n",
       "      <th></th>\n",
       "      <th></th>\n",
       "      <th></th>\n",
       "      <th></th>\n",
       "      <th></th>\n",
       "    </tr>\n",
       "  </thead>\n",
       "  <tbody>\n",
       "    <tr>\n",
       "      <th>6.0</th>\n",
       "      <td>1</td>\n",
       "      <td>2.990</td>\n",
       "      <td>12.0</td>\n",
       "      <td>120000.0</td>\n",
       "      <td>0</td>\n",
       "      <td>0</td>\n",
       "      <td>0</td>\n",
       "      <td>0</td>\n",
       "    </tr>\n",
       "    <tr>\n",
       "      <th>7.0</th>\n",
       "      <td>1</td>\n",
       "      <td>4.250</td>\n",
       "      <td>7.0</td>\n",
       "      <td>80000.0</td>\n",
       "      <td>1</td>\n",
       "      <td>2</td>\n",
       "      <td>1</td>\n",
       "      <td>0</td>\n",
       "    </tr>\n",
       "    <tr>\n",
       "      <th>8.0</th>\n",
       "      <td>2</td>\n",
       "      <td>8.250</td>\n",
       "      <td>16.0</td>\n",
       "      <td>183000.0</td>\n",
       "      <td>1</td>\n",
       "      <td>1</td>\n",
       "      <td>0</td>\n",
       "      <td>1</td>\n",
       "    </tr>\n",
       "    <tr>\n",
       "      <th>9.0</th>\n",
       "      <td>1</td>\n",
       "      <td>25.500</td>\n",
       "      <td>69.0</td>\n",
       "      <td>971000.0</td>\n",
       "      <td>3</td>\n",
       "      <td>5</td>\n",
       "      <td>2</td>\n",
       "      <td>1</td>\n",
       "    </tr>\n",
       "    <tr>\n",
       "      <th>10.0</th>\n",
       "      <td>6</td>\n",
       "      <td>49.000</td>\n",
       "      <td>150.0</td>\n",
       "      <td>1501000.0</td>\n",
       "      <td>7</td>\n",
       "      <td>13</td>\n",
       "      <td>6</td>\n",
       "      <td>1</td>\n",
       "    </tr>\n",
       "    <tr>\n",
       "      <th>...</th>\n",
       "      <td>...</td>\n",
       "      <td>...</td>\n",
       "      <td>...</td>\n",
       "      <td>...</td>\n",
       "      <td>...</td>\n",
       "      <td>...</td>\n",
       "      <td>...</td>\n",
       "      <td>...</td>\n",
       "    </tr>\n",
       "    <tr>\n",
       "      <th>91.0</th>\n",
       "      <td>0</td>\n",
       "      <td>297.005</td>\n",
       "      <td>7098.0</td>\n",
       "      <td>16999000.0</td>\n",
       "      <td>49</td>\n",
       "      <td>90</td>\n",
       "      <td>41</td>\n",
       "      <td>8</td>\n",
       "    </tr>\n",
       "    <tr>\n",
       "      <th>92.0</th>\n",
       "      <td>0</td>\n",
       "      <td>1020.929</td>\n",
       "      <td>23276.0</td>\n",
       "      <td>57303000.0</td>\n",
       "      <td>170</td>\n",
       "      <td>328</td>\n",
       "      <td>158</td>\n",
       "      <td>12</td>\n",
       "    </tr>\n",
       "    <tr>\n",
       "      <th>93.0</th>\n",
       "      <td>0</td>\n",
       "      <td>829.006</td>\n",
       "      <td>19251.0</td>\n",
       "      <td>46849000.0</td>\n",
       "      <td>124</td>\n",
       "      <td>239</td>\n",
       "      <td>115</td>\n",
       "      <td>9</td>\n",
       "    </tr>\n",
       "    <tr>\n",
       "      <th>94.0</th>\n",
       "      <td>0</td>\n",
       "      <td>981.700</td>\n",
       "      <td>23030.0</td>\n",
       "      <td>56135000.0</td>\n",
       "      <td>168</td>\n",
       "      <td>320</td>\n",
       "      <td>152</td>\n",
       "      <td>16</td>\n",
       "    </tr>\n",
       "    <tr>\n",
       "      <th>95.0</th>\n",
       "      <td>0</td>\n",
       "      <td>19484.314</td>\n",
       "      <td>442415.0</td>\n",
       "      <td>996430000.0</td>\n",
       "      <td>3200</td>\n",
       "      <td>6157</td>\n",
       "      <td>2957</td>\n",
       "      <td>243</td>\n",
       "    </tr>\n",
       "  </tbody>\n",
       "</table>\n",
       "<p>90 rows × 8 columns</p>\n",
       "</div>"
      ],
      "text/plain": [
       "      loan_purpose_C     int_rt      cltv     orig_upb  prepayment_flag  \\\n",
       "ltv                                                                       \n",
       "6.0                1      2.990      12.0     120000.0                0   \n",
       "7.0                1      4.250       7.0      80000.0                1   \n",
       "8.0                2      8.250      16.0     183000.0                1   \n",
       "9.0                1     25.500      69.0     971000.0                3   \n",
       "10.0               6     49.000     150.0    1501000.0                7   \n",
       "...              ...        ...       ...          ...              ...   \n",
       "91.0               0    297.005    7098.0   16999000.0               49   \n",
       "92.0               0   1020.929   23276.0   57303000.0              170   \n",
       "93.0               0    829.006   19251.0   46849000.0              124   \n",
       "94.0               0    981.700   23030.0   56135000.0              168   \n",
       "95.0               0  19484.314  442415.0  996430000.0             3200   \n",
       "\n",
       "      prepayment_type  Full  Partial  \n",
       "ltv                                   \n",
       "6.0                 0     0        0  \n",
       "7.0                 2     1        0  \n",
       "8.0                 1     0        1  \n",
       "9.0                 5     2        1  \n",
       "10.0               13     6        1  \n",
       "...               ...   ...      ...  \n",
       "91.0               90    41        8  \n",
       "92.0              328   158       12  \n",
       "93.0              239   115        9  \n",
       "94.0              320   152       16  \n",
       "95.0             6157  2957      243  \n",
       "\n",
       "[90 rows x 8 columns]"
      ]
     },
     "metadata": {},
     "execution_count": 11
    },
    {
     "output_type": "display_data",
     "data": {
      "text/plain": "<Figure size 432x288 with 1 Axes>",
      "image/svg+xml": "<?xml version=\"1.0\" encoding=\"utf-8\" standalone=\"no\"?>\r\n<!DOCTYPE svg PUBLIC \"-//W3C//DTD SVG 1.1//EN\"\r\n  \"http://www.w3.org/Graphics/SVG/1.1/DTD/svg11.dtd\">\r\n<!-- Created with matplotlib (https://matplotlib.org/) -->\r\n<svg height=\"277.314375pt\" version=\"1.1\" viewBox=\"0 0 381.65 277.314375\" width=\"381.65pt\" xmlns=\"http://www.w3.org/2000/svg\" xmlns:xlink=\"http://www.w3.org/1999/xlink\">\r\n <metadata>\r\n  <rdf:RDF xmlns:cc=\"http://creativecommons.org/ns#\" xmlns:dc=\"http://purl.org/dc/elements/1.1/\" xmlns:rdf=\"http://www.w3.org/1999/02/22-rdf-syntax-ns#\">\r\n   <cc:Work>\r\n    <dc:type rdf:resource=\"http://purl.org/dc/dcmitype/StillImage\"/>\r\n    <dc:date>2021-05-29T22:01:48.368236</dc:date>\r\n    <dc:format>image/svg+xml</dc:format>\r\n    <dc:creator>\r\n     <cc:Agent>\r\n      <dc:title>Matplotlib v3.3.4, https://matplotlib.org/</dc:title>\r\n     </cc:Agent>\r\n    </dc:creator>\r\n   </cc:Work>\r\n  </rdf:RDF>\r\n </metadata>\r\n <defs>\r\n  <style type=\"text/css\">*{stroke-linecap:butt;stroke-linejoin:round;}</style>\r\n </defs>\r\n <g id=\"figure_1\">\r\n  <g id=\"patch_1\">\r\n   <path d=\"M -0 277.314375 \r\nL 381.65 277.314375 \r\nL 381.65 0 \r\nL -0 0 \r\nz\r\n\" style=\"fill:none;\"/>\r\n  </g>\r\n  <g id=\"axes_1\">\r\n   <g id=\"patch_2\">\r\n    <path d=\"M 39.65 239.758125 \r\nL 374.45 239.758125 \r\nL 374.45 22.318125 \r\nL 39.65 22.318125 \r\nz\r\n\" style=\"fill:#ffffff;\"/>\r\n   </g>\r\n   <g id=\"matplotlib.axis_1\">\r\n    <g id=\"xtick_1\">\r\n     <g id=\"line2d_1\">\r\n      <defs>\r\n       <path d=\"M 0 0 \r\nL 0 3.5 \r\n\" id=\"mccc079a359\" style=\"stroke:#000000;stroke-width:0.8;\"/>\r\n      </defs>\r\n      <g>\r\n       <use style=\"stroke:#000000;stroke-width:0.8;\" x=\"99.830992\" xlink:href=\"#mccc079a359\" y=\"239.758125\"/>\r\n      </g>\r\n     </g>\r\n     <g id=\"text_1\">\r\n      <!-- 20 -->\r\n      <g transform=\"translate(93.468492 254.356562)scale(0.1 -0.1)\">\r\n       <defs>\r\n        <path d=\"M 19.1875 8.296875 \r\nL 53.609375 8.296875 \r\nL 53.609375 0 \r\nL 7.328125 0 \r\nL 7.328125 8.296875 \r\nQ 12.9375 14.109375 22.625 23.890625 \r\nQ 32.328125 33.6875 34.8125 36.53125 \r\nQ 39.546875 41.84375 41.421875 45.53125 \r\nQ 43.3125 49.21875 43.3125 52.78125 \r\nQ 43.3125 58.59375 39.234375 62.25 \r\nQ 35.15625 65.921875 28.609375 65.921875 \r\nQ 23.96875 65.921875 18.8125 64.3125 \r\nQ 13.671875 62.703125 7.8125 59.421875 \r\nL 7.8125 69.390625 \r\nQ 13.765625 71.78125 18.9375 73 \r\nQ 24.125 74.21875 28.421875 74.21875 \r\nQ 39.75 74.21875 46.484375 68.546875 \r\nQ 53.21875 62.890625 53.21875 53.421875 \r\nQ 53.21875 48.921875 51.53125 44.890625 \r\nQ 49.859375 40.875 45.40625 35.40625 \r\nQ 44.1875 33.984375 37.640625 27.21875 \r\nQ 31.109375 20.453125 19.1875 8.296875 \r\nz\r\n\" id=\"DejaVuSans-50\"/>\r\n        <path d=\"M 31.78125 66.40625 \r\nQ 24.171875 66.40625 20.328125 58.90625 \r\nQ 16.5 51.421875 16.5 36.375 \r\nQ 16.5 21.390625 20.328125 13.890625 \r\nQ 24.171875 6.390625 31.78125 6.390625 \r\nQ 39.453125 6.390625 43.28125 13.890625 \r\nQ 47.125 21.390625 47.125 36.375 \r\nQ 47.125 51.421875 43.28125 58.90625 \r\nQ 39.453125 66.40625 31.78125 66.40625 \r\nz\r\nM 31.78125 74.21875 \r\nQ 44.046875 74.21875 50.515625 64.515625 \r\nQ 56.984375 54.828125 56.984375 36.375 \r\nQ 56.984375 17.96875 50.515625 8.265625 \r\nQ 44.046875 -1.421875 31.78125 -1.421875 \r\nQ 19.53125 -1.421875 13.0625 8.265625 \r\nQ 6.59375 17.96875 6.59375 36.375 \r\nQ 6.59375 54.828125 13.0625 64.515625 \r\nQ 19.53125 74.21875 31.78125 74.21875 \r\nz\r\n\" id=\"DejaVuSans-48\"/>\r\n       </defs>\r\n       <use xlink:href=\"#DejaVuSans-50\"/>\r\n       <use x=\"63.623047\" xlink:href=\"#DejaVuSans-48\"/>\r\n      </g>\r\n     </g>\r\n    </g>\r\n    <g id=\"xtick_2\">\r\n     <g id=\"line2d_2\">\r\n      <g>\r\n       <use style=\"stroke:#000000;stroke-width:0.8;\" x=\"169.004545\" xlink:href=\"#mccc079a359\" y=\"239.758125\"/>\r\n      </g>\r\n     </g>\r\n     <g id=\"text_2\">\r\n      <!-- 40 -->\r\n      <g transform=\"translate(162.642045 254.356562)scale(0.1 -0.1)\">\r\n       <defs>\r\n        <path d=\"M 37.796875 64.3125 \r\nL 12.890625 25.390625 \r\nL 37.796875 25.390625 \r\nz\r\nM 35.203125 72.90625 \r\nL 47.609375 72.90625 \r\nL 47.609375 25.390625 \r\nL 58.015625 25.390625 \r\nL 58.015625 17.1875 \r\nL 47.609375 17.1875 \r\nL 47.609375 0 \r\nL 37.796875 0 \r\nL 37.796875 17.1875 \r\nL 4.890625 17.1875 \r\nL 4.890625 26.703125 \r\nz\r\n\" id=\"DejaVuSans-52\"/>\r\n       </defs>\r\n       <use xlink:href=\"#DejaVuSans-52\"/>\r\n       <use x=\"63.623047\" xlink:href=\"#DejaVuSans-48\"/>\r\n      </g>\r\n     </g>\r\n    </g>\r\n    <g id=\"xtick_3\">\r\n     <g id=\"line2d_3\">\r\n      <g>\r\n       <use style=\"stroke:#000000;stroke-width:0.8;\" x=\"238.178099\" xlink:href=\"#mccc079a359\" y=\"239.758125\"/>\r\n      </g>\r\n     </g>\r\n     <g id=\"text_3\">\r\n      <!-- 60 -->\r\n      <g transform=\"translate(231.815599 254.356562)scale(0.1 -0.1)\">\r\n       <defs>\r\n        <path d=\"M 33.015625 40.375 \r\nQ 26.375 40.375 22.484375 35.828125 \r\nQ 18.609375 31.296875 18.609375 23.390625 \r\nQ 18.609375 15.53125 22.484375 10.953125 \r\nQ 26.375 6.390625 33.015625 6.390625 \r\nQ 39.65625 6.390625 43.53125 10.953125 \r\nQ 47.40625 15.53125 47.40625 23.390625 \r\nQ 47.40625 31.296875 43.53125 35.828125 \r\nQ 39.65625 40.375 33.015625 40.375 \r\nz\r\nM 52.59375 71.296875 \r\nL 52.59375 62.3125 \r\nQ 48.875 64.0625 45.09375 64.984375 \r\nQ 41.3125 65.921875 37.59375 65.921875 \r\nQ 27.828125 65.921875 22.671875 59.328125 \r\nQ 17.53125 52.734375 16.796875 39.40625 \r\nQ 19.671875 43.65625 24.015625 45.921875 \r\nQ 28.375 48.1875 33.59375 48.1875 \r\nQ 44.578125 48.1875 50.953125 41.515625 \r\nQ 57.328125 34.859375 57.328125 23.390625 \r\nQ 57.328125 12.15625 50.6875 5.359375 \r\nQ 44.046875 -1.421875 33.015625 -1.421875 \r\nQ 20.359375 -1.421875 13.671875 8.265625 \r\nQ 6.984375 17.96875 6.984375 36.375 \r\nQ 6.984375 53.65625 15.1875 63.9375 \r\nQ 23.390625 74.21875 37.203125 74.21875 \r\nQ 40.921875 74.21875 44.703125 73.484375 \r\nQ 48.484375 72.75 52.59375 71.296875 \r\nz\r\n\" id=\"DejaVuSans-54\"/>\r\n       </defs>\r\n       <use xlink:href=\"#DejaVuSans-54\"/>\r\n       <use x=\"63.623047\" xlink:href=\"#DejaVuSans-48\"/>\r\n      </g>\r\n     </g>\r\n    </g>\r\n    <g id=\"xtick_4\">\r\n     <g id=\"line2d_4\">\r\n      <g>\r\n       <use style=\"stroke:#000000;stroke-width:0.8;\" x=\"307.351653\" xlink:href=\"#mccc079a359\" y=\"239.758125\"/>\r\n      </g>\r\n     </g>\r\n     <g id=\"text_4\">\r\n      <!-- 80 -->\r\n      <g transform=\"translate(300.989153 254.356562)scale(0.1 -0.1)\">\r\n       <defs>\r\n        <path d=\"M 31.78125 34.625 \r\nQ 24.75 34.625 20.71875 30.859375 \r\nQ 16.703125 27.09375 16.703125 20.515625 \r\nQ 16.703125 13.921875 20.71875 10.15625 \r\nQ 24.75 6.390625 31.78125 6.390625 \r\nQ 38.8125 6.390625 42.859375 10.171875 \r\nQ 46.921875 13.96875 46.921875 20.515625 \r\nQ 46.921875 27.09375 42.890625 30.859375 \r\nQ 38.875 34.625 31.78125 34.625 \r\nz\r\nM 21.921875 38.8125 \r\nQ 15.578125 40.375 12.03125 44.71875 \r\nQ 8.5 49.078125 8.5 55.328125 \r\nQ 8.5 64.0625 14.71875 69.140625 \r\nQ 20.953125 74.21875 31.78125 74.21875 \r\nQ 42.671875 74.21875 48.875 69.140625 \r\nQ 55.078125 64.0625 55.078125 55.328125 \r\nQ 55.078125 49.078125 51.53125 44.71875 \r\nQ 48 40.375 41.703125 38.8125 \r\nQ 48.828125 37.15625 52.796875 32.3125 \r\nQ 56.78125 27.484375 56.78125 20.515625 \r\nQ 56.78125 9.90625 50.3125 4.234375 \r\nQ 43.84375 -1.421875 31.78125 -1.421875 \r\nQ 19.734375 -1.421875 13.25 4.234375 \r\nQ 6.78125 9.90625 6.78125 20.515625 \r\nQ 6.78125 27.484375 10.78125 32.3125 \r\nQ 14.796875 37.15625 21.921875 38.8125 \r\nz\r\nM 18.3125 54.390625 \r\nQ 18.3125 48.734375 21.84375 45.5625 \r\nQ 25.390625 42.390625 31.78125 42.390625 \r\nQ 38.140625 42.390625 41.71875 45.5625 \r\nQ 45.3125 48.734375 45.3125 54.390625 \r\nQ 45.3125 60.0625 41.71875 63.234375 \r\nQ 38.140625 66.40625 31.78125 66.40625 \r\nQ 25.390625 66.40625 21.84375 63.234375 \r\nQ 18.3125 60.0625 18.3125 54.390625 \r\nz\r\n\" id=\"DejaVuSans-56\"/>\r\n       </defs>\r\n       <use xlink:href=\"#DejaVuSans-56\"/>\r\n       <use x=\"63.623047\" xlink:href=\"#DejaVuSans-48\"/>\r\n      </g>\r\n     </g>\r\n    </g>\r\n    <g id=\"text_5\">\r\n     <!-- ltv -->\r\n     <g transform=\"translate(200.741406 268.034687)scale(0.1 -0.1)\">\r\n      <defs>\r\n       <path d=\"M 9.421875 75.984375 \r\nL 18.40625 75.984375 \r\nL 18.40625 0 \r\nL 9.421875 0 \r\nz\r\n\" id=\"DejaVuSans-108\"/>\r\n       <path d=\"M 18.3125 70.21875 \r\nL 18.3125 54.6875 \r\nL 36.8125 54.6875 \r\nL 36.8125 47.703125 \r\nL 18.3125 47.703125 \r\nL 18.3125 18.015625 \r\nQ 18.3125 11.328125 20.140625 9.421875 \r\nQ 21.96875 7.515625 27.59375 7.515625 \r\nL 36.8125 7.515625 \r\nL 36.8125 0 \r\nL 27.59375 0 \r\nQ 17.1875 0 13.234375 3.875 \r\nQ 9.28125 7.765625 9.28125 18.015625 \r\nL 9.28125 47.703125 \r\nL 2.6875 47.703125 \r\nL 2.6875 54.6875 \r\nL 9.28125 54.6875 \r\nL 9.28125 70.21875 \r\nz\r\n\" id=\"DejaVuSans-116\"/>\r\n       <path d=\"M 2.984375 54.6875 \r\nL 12.5 54.6875 \r\nL 29.59375 8.796875 \r\nL 46.6875 54.6875 \r\nL 56.203125 54.6875 \r\nL 35.6875 0 \r\nL 23.484375 0 \r\nz\r\n\" id=\"DejaVuSans-118\"/>\r\n      </defs>\r\n      <use xlink:href=\"#DejaVuSans-108\"/>\r\n      <use x=\"27.783203\" xlink:href=\"#DejaVuSans-116\"/>\r\n      <use x=\"66.992188\" xlink:href=\"#DejaVuSans-118\"/>\r\n     </g>\r\n    </g>\r\n   </g>\r\n   <g id=\"matplotlib.axis_2\">\r\n    <g id=\"ytick_1\">\r\n     <g id=\"line2d_5\">\r\n      <defs>\r\n       <path d=\"M 0 0 \r\nL -3.5 0 \r\n\" id=\"m45a8c7a7e4\" style=\"stroke:#000000;stroke-width:0.8;\"/>\r\n      </defs>\r\n      <g>\r\n       <use style=\"stroke:#000000;stroke-width:0.8;\" x=\"39.65\" xlink:href=\"#m45a8c7a7e4\" y=\"229.9065\"/>\r\n      </g>\r\n     </g>\r\n     <g id=\"text_6\">\r\n      <!-- 0 -->\r\n      <g transform=\"translate(26.2875 233.705719)scale(0.1 -0.1)\">\r\n       <use xlink:href=\"#DejaVuSans-48\"/>\r\n      </g>\r\n     </g>\r\n    </g>\r\n    <g id=\"ytick_2\">\r\n     <g id=\"line2d_6\">\r\n      <g>\r\n       <use style=\"stroke:#000000;stroke-width:0.8;\" x=\"39.65\" xlink:href=\"#m45a8c7a7e4\" y=\"197.894723\"/>\r\n      </g>\r\n     </g>\r\n     <g id=\"text_7\">\r\n      <!-- 1000 -->\r\n      <g transform=\"translate(7.2 201.693941)scale(0.1 -0.1)\">\r\n       <defs>\r\n        <path d=\"M 12.40625 8.296875 \r\nL 28.515625 8.296875 \r\nL 28.515625 63.921875 \r\nL 10.984375 60.40625 \r\nL 10.984375 69.390625 \r\nL 28.421875 72.90625 \r\nL 38.28125 72.90625 \r\nL 38.28125 8.296875 \r\nL 54.390625 8.296875 \r\nL 54.390625 0 \r\nL 12.40625 0 \r\nz\r\n\" id=\"DejaVuSans-49\"/>\r\n       </defs>\r\n       <use xlink:href=\"#DejaVuSans-49\"/>\r\n       <use x=\"63.623047\" xlink:href=\"#DejaVuSans-48\"/>\r\n       <use x=\"127.246094\" xlink:href=\"#DejaVuSans-48\"/>\r\n       <use x=\"190.869141\" xlink:href=\"#DejaVuSans-48\"/>\r\n      </g>\r\n     </g>\r\n    </g>\r\n    <g id=\"ytick_3\">\r\n     <g id=\"line2d_7\">\r\n      <g>\r\n       <use style=\"stroke:#000000;stroke-width:0.8;\" x=\"39.65\" xlink:href=\"#m45a8c7a7e4\" y=\"165.882945\"/>\r\n      </g>\r\n     </g>\r\n     <g id=\"text_8\">\r\n      <!-- 2000 -->\r\n      <g transform=\"translate(7.2 169.682164)scale(0.1 -0.1)\">\r\n       <use xlink:href=\"#DejaVuSans-50\"/>\r\n       <use x=\"63.623047\" xlink:href=\"#DejaVuSans-48\"/>\r\n       <use x=\"127.246094\" xlink:href=\"#DejaVuSans-48\"/>\r\n       <use x=\"190.869141\" xlink:href=\"#DejaVuSans-48\"/>\r\n      </g>\r\n     </g>\r\n    </g>\r\n    <g id=\"ytick_4\">\r\n     <g id=\"line2d_8\">\r\n      <g>\r\n       <use style=\"stroke:#000000;stroke-width:0.8;\" x=\"39.65\" xlink:href=\"#m45a8c7a7e4\" y=\"133.871167\"/>\r\n      </g>\r\n     </g>\r\n     <g id=\"text_9\">\r\n      <!-- 3000 -->\r\n      <g transform=\"translate(7.2 137.670386)scale(0.1 -0.1)\">\r\n       <defs>\r\n        <path d=\"M 40.578125 39.3125 \r\nQ 47.65625 37.796875 51.625 33 \r\nQ 55.609375 28.21875 55.609375 21.1875 \r\nQ 55.609375 10.40625 48.1875 4.484375 \r\nQ 40.765625 -1.421875 27.09375 -1.421875 \r\nQ 22.515625 -1.421875 17.65625 -0.515625 \r\nQ 12.796875 0.390625 7.625 2.203125 \r\nL 7.625 11.71875 \r\nQ 11.71875 9.328125 16.59375 8.109375 \r\nQ 21.484375 6.890625 26.8125 6.890625 \r\nQ 36.078125 6.890625 40.9375 10.546875 \r\nQ 45.796875 14.203125 45.796875 21.1875 \r\nQ 45.796875 27.640625 41.28125 31.265625 \r\nQ 36.765625 34.90625 28.71875 34.90625 \r\nL 20.21875 34.90625 \r\nL 20.21875 43.015625 \r\nL 29.109375 43.015625 \r\nQ 36.375 43.015625 40.234375 45.921875 \r\nQ 44.09375 48.828125 44.09375 54.296875 \r\nQ 44.09375 59.90625 40.109375 62.90625 \r\nQ 36.140625 65.921875 28.71875 65.921875 \r\nQ 24.65625 65.921875 20.015625 65.03125 \r\nQ 15.375 64.15625 9.8125 62.3125 \r\nL 9.8125 71.09375 \r\nQ 15.4375 72.65625 20.34375 73.4375 \r\nQ 25.25 74.21875 29.59375 74.21875 \r\nQ 40.828125 74.21875 47.359375 69.109375 \r\nQ 53.90625 64.015625 53.90625 55.328125 \r\nQ 53.90625 49.265625 50.4375 45.09375 \r\nQ 46.96875 40.921875 40.578125 39.3125 \r\nz\r\n\" id=\"DejaVuSans-51\"/>\r\n       </defs>\r\n       <use xlink:href=\"#DejaVuSans-51\"/>\r\n       <use x=\"63.623047\" xlink:href=\"#DejaVuSans-48\"/>\r\n       <use x=\"127.246094\" xlink:href=\"#DejaVuSans-48\"/>\r\n       <use x=\"190.869141\" xlink:href=\"#DejaVuSans-48\"/>\r\n      </g>\r\n     </g>\r\n    </g>\r\n    <g id=\"ytick_5\">\r\n     <g id=\"line2d_9\">\r\n      <g>\r\n       <use style=\"stroke:#000000;stroke-width:0.8;\" x=\"39.65\" xlink:href=\"#m45a8c7a7e4\" y=\"101.85939\"/>\r\n      </g>\r\n     </g>\r\n     <g id=\"text_10\">\r\n      <!-- 4000 -->\r\n      <g transform=\"translate(7.2 105.658608)scale(0.1 -0.1)\">\r\n       <use xlink:href=\"#DejaVuSans-52\"/>\r\n       <use x=\"63.623047\" xlink:href=\"#DejaVuSans-48\"/>\r\n       <use x=\"127.246094\" xlink:href=\"#DejaVuSans-48\"/>\r\n       <use x=\"190.869141\" xlink:href=\"#DejaVuSans-48\"/>\r\n      </g>\r\n     </g>\r\n    </g>\r\n    <g id=\"ytick_6\">\r\n     <g id=\"line2d_10\">\r\n      <g>\r\n       <use style=\"stroke:#000000;stroke-width:0.8;\" x=\"39.65\" xlink:href=\"#m45a8c7a7e4\" y=\"69.847612\"/>\r\n      </g>\r\n     </g>\r\n     <g id=\"text_11\">\r\n      <!-- 5000 -->\r\n      <g transform=\"translate(7.2 73.646831)scale(0.1 -0.1)\">\r\n       <defs>\r\n        <path d=\"M 10.796875 72.90625 \r\nL 49.515625 72.90625 \r\nL 49.515625 64.59375 \r\nL 19.828125 64.59375 \r\nL 19.828125 46.734375 \r\nQ 21.96875 47.46875 24.109375 47.828125 \r\nQ 26.265625 48.1875 28.421875 48.1875 \r\nQ 40.625 48.1875 47.75 41.5 \r\nQ 54.890625 34.8125 54.890625 23.390625 \r\nQ 54.890625 11.625 47.5625 5.09375 \r\nQ 40.234375 -1.421875 26.90625 -1.421875 \r\nQ 22.3125 -1.421875 17.546875 -0.640625 \r\nQ 12.796875 0.140625 7.71875 1.703125 \r\nL 7.71875 11.625 \r\nQ 12.109375 9.234375 16.796875 8.0625 \r\nQ 21.484375 6.890625 26.703125 6.890625 \r\nQ 35.15625 6.890625 40.078125 11.328125 \r\nQ 45.015625 15.765625 45.015625 23.390625 \r\nQ 45.015625 31 40.078125 35.4375 \r\nQ 35.15625 39.890625 26.703125 39.890625 \r\nQ 22.75 39.890625 18.8125 39.015625 \r\nQ 14.890625 38.140625 10.796875 36.28125 \r\nz\r\n\" id=\"DejaVuSans-53\"/>\r\n       </defs>\r\n       <use xlink:href=\"#DejaVuSans-53\"/>\r\n       <use x=\"63.623047\" xlink:href=\"#DejaVuSans-48\"/>\r\n       <use x=\"127.246094\" xlink:href=\"#DejaVuSans-48\"/>\r\n       <use x=\"190.869141\" xlink:href=\"#DejaVuSans-48\"/>\r\n      </g>\r\n     </g>\r\n    </g>\r\n    <g id=\"ytick_7\">\r\n     <g id=\"line2d_11\">\r\n      <g>\r\n       <use style=\"stroke:#000000;stroke-width:0.8;\" x=\"39.65\" xlink:href=\"#m45a8c7a7e4\" y=\"37.835834\"/>\r\n      </g>\r\n     </g>\r\n     <g id=\"text_12\">\r\n      <!-- 6000 -->\r\n      <g transform=\"translate(7.2 41.635053)scale(0.1 -0.1)\">\r\n       <use xlink:href=\"#DejaVuSans-54\"/>\r\n       <use x=\"63.623047\" xlink:href=\"#DejaVuSans-48\"/>\r\n       <use x=\"127.246094\" xlink:href=\"#DejaVuSans-48\"/>\r\n       <use x=\"190.869141\" xlink:href=\"#DejaVuSans-48\"/>\r\n      </g>\r\n     </g>\r\n    </g>\r\n   </g>\r\n   <g id=\"line2d_12\">\r\n    <path clip-path=\"url(#pc98bca735e)\" d=\"M 54.868182 229.874489 \r\nL 61.785537 229.842477 \r\nL 65.244215 229.71443 \r\nL 68.702893 229.842477 \r\nL 72.16157 229.810465 \r\nL 75.620248 229.746442 \r\nL 79.078926 229.458336 \r\nL 82.537603 229.650406 \r\nL 85.996281 229.458336 \r\nL 89.454959 229.266265 \r\nL 92.913636 229.234253 \r\nL 96.372314 229.010171 \r\nL 99.830992 229.010171 \r\nL 103.289669 229.074194 \r\nL 106.748347 228.690053 \r\nL 110.207025 228.8181 \r\nL 113.665702 228.626029 \r\nL 117.12438 228.722065 \r\nL 120.583058 228.305912 \r\nL 124.041736 228.497982 \r\nL 127.500413 228.241888 \r\nL 130.959091 228.46597 \r\nL 134.417769 228.209876 \r\nL 137.876446 227.985794 \r\nL 141.335124 227.825735 \r\nL 144.793802 227.249523 \r\nL 148.252479 227.505617 \r\nL 151.711157 227.121476 \r\nL 155.169835 227.281535 \r\nL 158.628512 226.737334 \r\nL 162.08719 226.961417 \r\nL 165.545868 227.153488 \r\nL 169.004545 226.385205 \r\nL 172.463223 226.993429 \r\nL 175.921901 226.737334 \r\nL 179.380579 226.065087 \r\nL 182.839256 226.321181 \r\nL 186.297934 226.83337 \r\nL 189.756612 225.168757 \r\nL 193.215289 225.008698 \r\nL 196.673967 224.752604 \r\nL 200.132645 224.912663 \r\nL 203.591322 223.376098 \r\nL 207.05 225.072722 \r\nL 210.508678 224.208404 \r\nL 213.967355 224.592545 \r\nL 217.426033 223.888286 \r\nL 220.884711 223.60018 \r\nL 224.343388 224.048345 \r\nL 227.802066 222.383733 \r\nL 231.260744 222.70385 \r\nL 234.719421 221.61545 \r\nL 238.178099 217.101789 \r\nL 241.636777 225.39284 \r\nL 245.095455 221.583438 \r\nL 248.554132 221.903556 \r\nL 252.01281 221.487403 \r\nL 255.471488 219.694743 \r\nL 258.930165 220.495038 \r\nL 262.388843 220.302967 \r\nL 265.847521 218.926461 \r\nL 269.306198 218.798414 \r\nL 272.764876 207.818374 \r\nL 276.223554 219.598708 \r\nL 279.682231 216.845695 \r\nL 283.140909 216.045401 \r\nL 286.599587 214.028659 \r\nL 290.058264 180.38428 \r\nL 293.516942 220.655097 \r\nL 296.97562 217.870072 \r\nL 300.434298 215.85333 \r\nL 303.892975 214.636882 \r\nL 307.351653 32.201761 \r\nL 310.810331 229.71443 \r\nL 314.269008 228.497982 \r\nL 317.727686 227.089464 \r\nL 321.186364 226.257158 \r\nL 324.645041 217.83806 \r\nL 328.103719 227.441594 \r\nL 331.562397 226.001064 \r\nL 335.021074 225.232781 \r\nL 338.479752 224.560534 \r\nL 341.93843 190.628049 \r\nL 345.397107 228.594018 \r\nL 348.855785 224.84864 \r\nL 352.314463 226.225146 \r\nL 355.77314 225.04071 \r\nL 359.231818 135.247674 \r\n\" style=\"fill:none;stroke:#1f77b4;stroke-linecap:square;stroke-width:1.5;\"/>\r\n   </g>\r\n   <g id=\"line2d_13\">\r\n    <path clip-path=\"url(#pc98bca735e)\" d=\"M 54.868182 229.874489 \r\nL 61.785537 229.842477 \r\nL 65.244215 229.71443 \r\nL 68.702893 229.842477 \r\nL 72.16157 229.810465 \r\nL 75.620248 229.746442 \r\nL 79.078926 229.458336 \r\nL 82.537603 229.650406 \r\nL 85.996281 229.458336 \r\nL 89.454959 229.266265 \r\nL 92.913636 229.234253 \r\nL 96.372314 229.010171 \r\nL 99.830992 229.010171 \r\nL 103.289669 229.074194 \r\nL 106.748347 228.690053 \r\nL 110.207025 228.8181 \r\nL 113.665702 228.626029 \r\nL 117.12438 228.722065 \r\nL 120.583058 228.305912 \r\nL 124.041736 228.497982 \r\nL 127.500413 228.241888 \r\nL 130.959091 228.46597 \r\nL 134.417769 228.209876 \r\nL 137.876446 227.985794 \r\nL 141.335124 227.825735 \r\nL 144.793802 227.249523 \r\nL 148.252479 227.505617 \r\nL 151.711157 227.121476 \r\nL 155.169835 227.281535 \r\nL 158.628512 226.737334 \r\nL 162.08719 226.961417 \r\nL 165.545868 227.153488 \r\nL 169.004545 226.385205 \r\nL 172.463223 226.993429 \r\nL 175.921901 226.737334 \r\nL 179.380579 226.065087 \r\nL 182.839256 226.321181 \r\nL 186.297934 226.83337 \r\nL 189.756612 225.168757 \r\nL 193.215289 225.008698 \r\nL 196.673967 224.752604 \r\nL 200.132645 224.912663 \r\nL 203.591322 223.376098 \r\nL 207.05 225.072722 \r\nL 210.508678 224.208404 \r\nL 213.967355 224.592545 \r\nL 217.426033 223.888286 \r\nL 220.884711 223.60018 \r\nL 224.343388 224.048345 \r\nL 227.802066 222.383733 \r\nL 231.260744 222.70385 \r\nL 234.719421 221.61545 \r\nL 238.178099 217.101789 \r\nL 241.636777 225.39284 \r\nL 245.095455 221.583438 \r\nL 248.554132 221.903556 \r\nL 252.01281 221.487403 \r\nL 255.471488 219.694743 \r\nL 258.930165 220.495038 \r\nL 262.388843 220.302967 \r\nL 265.847521 218.926461 \r\nL 269.306198 218.798414 \r\nL 272.764876 207.818374 \r\nL 276.223554 219.598708 \r\nL 279.682231 216.845695 \r\nL 283.140909 216.045401 \r\nL 286.599587 214.028659 \r\nL 290.058264 180.38428 \r\nL 293.516942 220.655097 \r\nL 296.97562 217.870072 \r\nL 300.434298 215.85333 \r\nL 303.892975 214.636882 \r\nL 307.351653 32.201761 \r\nL 310.810331 229.71443 \r\nL 314.269008 228.497982 \r\nL 317.727686 227.089464 \r\nL 321.186364 226.257158 \r\nL 324.645041 217.83806 \r\nL 328.103719 227.441594 \r\nL 331.562397 226.001064 \r\nL 335.021074 225.232781 \r\nL 338.479752 224.560534 \r\nL 341.93843 190.628049 \r\nL 345.397107 228.594018 \r\nL 348.855785 224.84864 \r\nL 352.314463 226.225146 \r\nL 355.77314 225.04071 \r\nL 359.231818 135.247674 \r\n\" style=\"fill:none;stroke:#ff7f0e;stroke-linecap:square;stroke-width:1.5;\"/>\r\n   </g>\r\n   <g id=\"line2d_14\">\r\n    <path clip-path=\"url(#pc98bca735e)\" d=\"M 54.868182 229.874489 \r\nL 61.785537 229.842477 \r\nL 65.244215 229.71443 \r\nL 68.702893 229.842477 \r\nL 72.16157 229.810465 \r\nL 75.620248 229.746442 \r\nL 79.078926 229.458336 \r\nL 82.537603 229.650406 \r\nL 85.996281 229.458336 \r\nL 89.454959 229.266265 \r\nL 92.913636 229.234253 \r\nL 96.372314 229.010171 \r\nL 99.830992 229.010171 \r\nL 103.289669 229.074194 \r\nL 106.748347 228.690053 \r\nL 110.207025 228.8181 \r\nL 113.665702 228.626029 \r\nL 117.12438 228.722065 \r\nL 120.583058 228.305912 \r\nL 124.041736 228.497982 \r\nL 127.500413 228.241888 \r\nL 130.959091 228.46597 \r\nL 134.417769 228.209876 \r\nL 137.876446 227.985794 \r\nL 141.335124 227.825735 \r\nL 144.793802 227.249523 \r\nL 148.252479 227.505617 \r\nL 151.711157 227.121476 \r\nL 155.169835 227.281535 \r\nL 158.628512 226.737334 \r\nL 162.08719 226.961417 \r\nL 165.545868 227.153488 \r\nL 169.004545 226.385205 \r\nL 172.463223 226.993429 \r\nL 175.921901 226.737334 \r\nL 179.380579 226.065087 \r\nL 182.839256 226.321181 \r\nL 186.297934 226.83337 \r\nL 189.756612 225.168757 \r\nL 193.215289 225.008698 \r\nL 196.673967 224.752604 \r\nL 200.132645 224.912663 \r\nL 203.591322 223.376098 \r\nL 207.05 225.072722 \r\nL 210.508678 224.208404 \r\nL 213.967355 224.592545 \r\nL 217.426033 223.888286 \r\nL 220.884711 223.60018 \r\nL 224.343388 224.048345 \r\nL 227.802066 222.383733 \r\nL 231.260744 222.70385 \r\nL 234.719421 221.61545 \r\nL 238.178099 217.101789 \r\nL 241.636777 225.39284 \r\nL 245.095455 221.583438 \r\nL 248.554132 221.903556 \r\nL 252.01281 221.487403 \r\nL 255.471488 219.694743 \r\nL 258.930165 220.495038 \r\nL 262.388843 220.302967 \r\nL 265.847521 218.926461 \r\nL 269.306198 218.798414 \r\nL 272.764876 207.818374 \r\nL 276.223554 219.598708 \r\nL 279.682231 216.845695 \r\nL 283.140909 216.045401 \r\nL 286.599587 214.028659 \r\nL 290.058264 180.38428 \r\nL 293.516942 220.655097 \r\nL 296.97562 217.870072 \r\nL 300.434298 215.85333 \r\nL 303.892975 214.636882 \r\nL 307.351653 32.201761 \r\nL 310.810331 229.71443 \r\nL 314.269008 228.497982 \r\nL 317.727686 227.089464 \r\nL 321.186364 226.257158 \r\nL 324.645041 217.83806 \r\nL 328.103719 227.441594 \r\nL 331.562397 226.001064 \r\nL 335.021074 225.232781 \r\nL 338.479752 224.560534 \r\nL 341.93843 190.628049 \r\nL 345.397107 228.594018 \r\nL 348.855785 224.84864 \r\nL 352.314463 226.225146 \r\nL 355.77314 225.04071 \r\nL 359.231818 135.247674 \r\n\" style=\"fill:none;stroke:#2ca02c;stroke-linecap:square;stroke-width:1.5;\"/>\r\n   </g>\r\n   <g id=\"line2d_15\">\r\n    <path clip-path=\"url(#pc98bca735e)\" d=\"M 54.868182 229.874489 \r\nL 61.785537 229.842477 \r\nL 65.244215 229.71443 \r\nL 68.702893 229.842477 \r\nL 72.16157 229.810465 \r\nL 75.620248 229.746442 \r\nL 79.078926 229.458336 \r\nL 82.537603 229.650406 \r\nL 85.996281 229.458336 \r\nL 89.454959 229.266265 \r\nL 92.913636 229.234253 \r\nL 96.372314 229.010171 \r\nL 99.830992 229.010171 \r\nL 103.289669 229.074194 \r\nL 106.748347 228.690053 \r\nL 110.207025 228.8181 \r\nL 113.665702 228.626029 \r\nL 117.12438 228.722065 \r\nL 120.583058 228.305912 \r\nL 124.041736 228.497982 \r\nL 127.500413 228.241888 \r\nL 130.959091 228.46597 \r\nL 134.417769 228.209876 \r\nL 137.876446 227.985794 \r\nL 141.335124 227.825735 \r\nL 144.793802 227.249523 \r\nL 148.252479 227.505617 \r\nL 151.711157 227.121476 \r\nL 155.169835 227.281535 \r\nL 158.628512 226.737334 \r\nL 162.08719 226.961417 \r\nL 165.545868 227.153488 \r\nL 169.004545 226.385205 \r\nL 172.463223 226.993429 \r\nL 175.921901 226.737334 \r\nL 179.380579 226.065087 \r\nL 182.839256 226.321181 \r\nL 186.297934 226.83337 \r\nL 189.756612 225.168757 \r\nL 193.215289 225.008698 \r\nL 196.673967 224.752604 \r\nL 200.132645 224.912663 \r\nL 203.591322 223.376098 \r\nL 207.05 225.072722 \r\nL 210.508678 224.208404 \r\nL 213.967355 224.592545 \r\nL 217.426033 223.888286 \r\nL 220.884711 223.60018 \r\nL 224.343388 224.048345 \r\nL 227.802066 222.383733 \r\nL 231.260744 222.70385 \r\nL 234.719421 221.61545 \r\nL 238.178099 217.101789 \r\nL 241.636777 225.39284 \r\nL 245.095455 221.583438 \r\nL 248.554132 221.903556 \r\nL 252.01281 221.487403 \r\nL 255.471488 219.694743 \r\nL 258.930165 220.495038 \r\nL 262.388843 220.302967 \r\nL 265.847521 218.926461 \r\nL 269.306198 218.798414 \r\nL 272.764876 207.818374 \r\nL 276.223554 219.598708 \r\nL 279.682231 216.845695 \r\nL 283.140909 216.045401 \r\nL 286.599587 214.028659 \r\nL 290.058264 180.38428 \r\nL 293.516942 220.655097 \r\nL 296.97562 217.870072 \r\nL 300.434298 215.85333 \r\nL 303.892975 214.636882 \r\nL 307.351653 32.201761 \r\nL 310.810331 229.71443 \r\nL 314.269008 228.497982 \r\nL 317.727686 227.089464 \r\nL 321.186364 226.257158 \r\nL 324.645041 217.83806 \r\nL 328.103719 227.441594 \r\nL 331.562397 226.001064 \r\nL 335.021074 225.232781 \r\nL 338.479752 224.560534 \r\nL 341.93843 190.628049 \r\nL 345.397107 228.594018 \r\nL 348.855785 224.84864 \r\nL 352.314463 226.225146 \r\nL 355.77314 225.04071 \r\nL 359.231818 135.247674 \r\n\" style=\"fill:none;stroke:#d62728;stroke-linecap:square;stroke-width:1.5;\"/>\r\n   </g>\r\n   <g id=\"line2d_16\">\r\n    <path clip-path=\"url(#pc98bca735e)\" d=\"M 54.868182 229.874489 \r\nL 61.785537 229.842477 \r\nL 65.244215 229.71443 \r\nL 68.702893 229.842477 \r\nL 72.16157 229.810465 \r\nL 75.620248 229.746442 \r\nL 79.078926 229.458336 \r\nL 82.537603 229.650406 \r\nL 85.996281 229.458336 \r\nL 89.454959 229.266265 \r\nL 92.913636 229.234253 \r\nL 96.372314 229.010171 \r\nL 99.830992 229.010171 \r\nL 103.289669 229.074194 \r\nL 106.748347 228.690053 \r\nL 110.207025 228.8181 \r\nL 113.665702 228.626029 \r\nL 117.12438 228.722065 \r\nL 120.583058 228.305912 \r\nL 124.041736 228.497982 \r\nL 127.500413 228.241888 \r\nL 130.959091 228.46597 \r\nL 134.417769 228.209876 \r\nL 137.876446 227.985794 \r\nL 141.335124 227.825735 \r\nL 144.793802 227.249523 \r\nL 148.252479 227.505617 \r\nL 151.711157 227.121476 \r\nL 155.169835 227.281535 \r\nL 158.628512 226.737334 \r\nL 162.08719 226.961417 \r\nL 165.545868 227.153488 \r\nL 169.004545 226.385205 \r\nL 172.463223 226.993429 \r\nL 175.921901 226.737334 \r\nL 179.380579 226.065087 \r\nL 182.839256 226.321181 \r\nL 186.297934 226.83337 \r\nL 189.756612 225.168757 \r\nL 193.215289 225.008698 \r\nL 196.673967 224.752604 \r\nL 200.132645 224.912663 \r\nL 203.591322 223.376098 \r\nL 207.05 225.072722 \r\nL 210.508678 224.208404 \r\nL 213.967355 224.592545 \r\nL 217.426033 223.888286 \r\nL 220.884711 223.60018 \r\nL 224.343388 224.048345 \r\nL 227.802066 222.383733 \r\nL 231.260744 222.70385 \r\nL 234.719421 221.61545 \r\nL 238.178099 217.101789 \r\nL 241.636777 225.39284 \r\nL 245.095455 221.583438 \r\nL 248.554132 221.903556 \r\nL 252.01281 221.487403 \r\nL 255.471488 219.694743 \r\nL 258.930165 220.495038 \r\nL 262.388843 220.302967 \r\nL 265.847521 218.926461 \r\nL 269.306198 218.798414 \r\nL 272.764876 207.818374 \r\nL 276.223554 219.598708 \r\nL 279.682231 216.845695 \r\nL 283.140909 216.045401 \r\nL 286.599587 214.028659 \r\nL 290.058264 180.38428 \r\nL 293.516942 220.655097 \r\nL 296.97562 217.870072 \r\nL 300.434298 215.85333 \r\nL 303.892975 214.636882 \r\nL 307.351653 32.201761 \r\nL 310.810331 229.71443 \r\nL 314.269008 228.497982 \r\nL 317.727686 227.089464 \r\nL 321.186364 226.257158 \r\nL 324.645041 217.83806 \r\nL 328.103719 227.441594 \r\nL 331.562397 226.001064 \r\nL 335.021074 225.232781 \r\nL 338.479752 224.560534 \r\nL 341.93843 190.628049 \r\nL 345.397107 228.594018 \r\nL 348.855785 224.84864 \r\nL 352.314463 226.225146 \r\nL 355.77314 225.04071 \r\nL 359.231818 135.247674 \r\n\" style=\"fill:none;stroke:#9467bd;stroke-linecap:square;stroke-width:1.5;\"/>\r\n   </g>\r\n   <g id=\"patch_3\">\r\n    <path d=\"M 39.65 239.758125 \r\nL 39.65 22.318125 \r\n\" style=\"fill:none;stroke:#000000;stroke-linecap:square;stroke-linejoin:miter;stroke-width:0.8;\"/>\r\n   </g>\r\n   <g id=\"patch_4\">\r\n    <path d=\"M 374.45 239.758125 \r\nL 374.45 22.318125 \r\n\" style=\"fill:none;stroke:#000000;stroke-linecap:square;stroke-linejoin:miter;stroke-width:0.8;\"/>\r\n   </g>\r\n   <g id=\"patch_5\">\r\n    <path d=\"M 39.65 239.758125 \r\nL 374.45 239.758125 \r\n\" style=\"fill:none;stroke:#000000;stroke-linecap:square;stroke-linejoin:miter;stroke-width:0.8;\"/>\r\n   </g>\r\n   <g id=\"patch_6\">\r\n    <path d=\"M 39.65 22.318125 \r\nL 374.45 22.318125 \r\n\" style=\"fill:none;stroke:#000000;stroke-linecap:square;stroke-linejoin:miter;stroke-width:0.8;\"/>\r\n   </g>\r\n   <g id=\"text_13\">\r\n    <!-- Plot of the loan to value against the prepayments (full) -->\r\n    <g transform=\"translate(42.146563 16.318125)scale(0.12 -0.12)\">\r\n     <defs>\r\n      <path d=\"M 19.671875 64.796875 \r\nL 19.671875 37.40625 \r\nL 32.078125 37.40625 \r\nQ 38.96875 37.40625 42.71875 40.96875 \r\nQ 46.484375 44.53125 46.484375 51.125 \r\nQ 46.484375 57.671875 42.71875 61.234375 \r\nQ 38.96875 64.796875 32.078125 64.796875 \r\nz\r\nM 9.8125 72.90625 \r\nL 32.078125 72.90625 \r\nQ 44.34375 72.90625 50.609375 67.359375 \r\nQ 56.890625 61.8125 56.890625 51.125 \r\nQ 56.890625 40.328125 50.609375 34.8125 \r\nQ 44.34375 29.296875 32.078125 29.296875 \r\nL 19.671875 29.296875 \r\nL 19.671875 0 \r\nL 9.8125 0 \r\nz\r\n\" id=\"DejaVuSans-80\"/>\r\n      <path d=\"M 30.609375 48.390625 \r\nQ 23.390625 48.390625 19.1875 42.75 \r\nQ 14.984375 37.109375 14.984375 27.296875 \r\nQ 14.984375 17.484375 19.15625 11.84375 \r\nQ 23.34375 6.203125 30.609375 6.203125 \r\nQ 37.796875 6.203125 41.984375 11.859375 \r\nQ 46.1875 17.53125 46.1875 27.296875 \r\nQ 46.1875 37.015625 41.984375 42.703125 \r\nQ 37.796875 48.390625 30.609375 48.390625 \r\nz\r\nM 30.609375 56 \r\nQ 42.328125 56 49.015625 48.375 \r\nQ 55.71875 40.765625 55.71875 27.296875 \r\nQ 55.71875 13.875 49.015625 6.21875 \r\nQ 42.328125 -1.421875 30.609375 -1.421875 \r\nQ 18.84375 -1.421875 12.171875 6.21875 \r\nQ 5.515625 13.875 5.515625 27.296875 \r\nQ 5.515625 40.765625 12.171875 48.375 \r\nQ 18.84375 56 30.609375 56 \r\nz\r\n\" id=\"DejaVuSans-111\"/>\r\n      <path id=\"DejaVuSans-32\"/>\r\n      <path d=\"M 37.109375 75.984375 \r\nL 37.109375 68.5 \r\nL 28.515625 68.5 \r\nQ 23.6875 68.5 21.796875 66.546875 \r\nQ 19.921875 64.59375 19.921875 59.515625 \r\nL 19.921875 54.6875 \r\nL 34.71875 54.6875 \r\nL 34.71875 47.703125 \r\nL 19.921875 47.703125 \r\nL 19.921875 0 \r\nL 10.890625 0 \r\nL 10.890625 47.703125 \r\nL 2.296875 47.703125 \r\nL 2.296875 54.6875 \r\nL 10.890625 54.6875 \r\nL 10.890625 58.5 \r\nQ 10.890625 67.625 15.140625 71.796875 \r\nQ 19.390625 75.984375 28.609375 75.984375 \r\nz\r\n\" id=\"DejaVuSans-102\"/>\r\n      <path d=\"M 54.890625 33.015625 \r\nL 54.890625 0 \r\nL 45.90625 0 \r\nL 45.90625 32.71875 \r\nQ 45.90625 40.484375 42.875 44.328125 \r\nQ 39.84375 48.1875 33.796875 48.1875 \r\nQ 26.515625 48.1875 22.3125 43.546875 \r\nQ 18.109375 38.921875 18.109375 30.90625 \r\nL 18.109375 0 \r\nL 9.078125 0 \r\nL 9.078125 75.984375 \r\nL 18.109375 75.984375 \r\nL 18.109375 46.1875 \r\nQ 21.34375 51.125 25.703125 53.5625 \r\nQ 30.078125 56 35.796875 56 \r\nQ 45.21875 56 50.046875 50.171875 \r\nQ 54.890625 44.34375 54.890625 33.015625 \r\nz\r\n\" id=\"DejaVuSans-104\"/>\r\n      <path d=\"M 56.203125 29.59375 \r\nL 56.203125 25.203125 \r\nL 14.890625 25.203125 \r\nQ 15.484375 15.921875 20.484375 11.0625 \r\nQ 25.484375 6.203125 34.421875 6.203125 \r\nQ 39.59375 6.203125 44.453125 7.46875 \r\nQ 49.3125 8.734375 54.109375 11.28125 \r\nL 54.109375 2.78125 \r\nQ 49.265625 0.734375 44.1875 -0.34375 \r\nQ 39.109375 -1.421875 33.890625 -1.421875 \r\nQ 20.796875 -1.421875 13.15625 6.1875 \r\nQ 5.515625 13.8125 5.515625 26.8125 \r\nQ 5.515625 40.234375 12.765625 48.109375 \r\nQ 20.015625 56 32.328125 56 \r\nQ 43.359375 56 49.78125 48.890625 \r\nQ 56.203125 41.796875 56.203125 29.59375 \r\nz\r\nM 47.21875 32.234375 \r\nQ 47.125 39.59375 43.09375 43.984375 \r\nQ 39.0625 48.390625 32.421875 48.390625 \r\nQ 24.90625 48.390625 20.390625 44.140625 \r\nQ 15.875 39.890625 15.1875 32.171875 \r\nz\r\n\" id=\"DejaVuSans-101\"/>\r\n      <path d=\"M 34.28125 27.484375 \r\nQ 23.390625 27.484375 19.1875 25 \r\nQ 14.984375 22.515625 14.984375 16.5 \r\nQ 14.984375 11.71875 18.140625 8.90625 \r\nQ 21.296875 6.109375 26.703125 6.109375 \r\nQ 34.1875 6.109375 38.703125 11.40625 \r\nQ 43.21875 16.703125 43.21875 25.484375 \r\nL 43.21875 27.484375 \r\nz\r\nM 52.203125 31.203125 \r\nL 52.203125 0 \r\nL 43.21875 0 \r\nL 43.21875 8.296875 \r\nQ 40.140625 3.328125 35.546875 0.953125 \r\nQ 30.953125 -1.421875 24.3125 -1.421875 \r\nQ 15.921875 -1.421875 10.953125 3.296875 \r\nQ 6 8.015625 6 15.921875 \r\nQ 6 25.140625 12.171875 29.828125 \r\nQ 18.359375 34.515625 30.609375 34.515625 \r\nL 43.21875 34.515625 \r\nL 43.21875 35.40625 \r\nQ 43.21875 41.609375 39.140625 45 \r\nQ 35.0625 48.390625 27.6875 48.390625 \r\nQ 23 48.390625 18.546875 47.265625 \r\nQ 14.109375 46.140625 10.015625 43.890625 \r\nL 10.015625 52.203125 \r\nQ 14.9375 54.109375 19.578125 55.046875 \r\nQ 24.21875 56 28.609375 56 \r\nQ 40.484375 56 46.34375 49.84375 \r\nQ 52.203125 43.703125 52.203125 31.203125 \r\nz\r\n\" id=\"DejaVuSans-97\"/>\r\n      <path d=\"M 54.890625 33.015625 \r\nL 54.890625 0 \r\nL 45.90625 0 \r\nL 45.90625 32.71875 \r\nQ 45.90625 40.484375 42.875 44.328125 \r\nQ 39.84375 48.1875 33.796875 48.1875 \r\nQ 26.515625 48.1875 22.3125 43.546875 \r\nQ 18.109375 38.921875 18.109375 30.90625 \r\nL 18.109375 0 \r\nL 9.078125 0 \r\nL 9.078125 54.6875 \r\nL 18.109375 54.6875 \r\nL 18.109375 46.1875 \r\nQ 21.34375 51.125 25.703125 53.5625 \r\nQ 30.078125 56 35.796875 56 \r\nQ 45.21875 56 50.046875 50.171875 \r\nQ 54.890625 44.34375 54.890625 33.015625 \r\nz\r\n\" id=\"DejaVuSans-110\"/>\r\n      <path d=\"M 8.5 21.578125 \r\nL 8.5 54.6875 \r\nL 17.484375 54.6875 \r\nL 17.484375 21.921875 \r\nQ 17.484375 14.15625 20.5 10.265625 \r\nQ 23.53125 6.390625 29.59375 6.390625 \r\nQ 36.859375 6.390625 41.078125 11.03125 \r\nQ 45.3125 15.671875 45.3125 23.6875 \r\nL 45.3125 54.6875 \r\nL 54.296875 54.6875 \r\nL 54.296875 0 \r\nL 45.3125 0 \r\nL 45.3125 8.40625 \r\nQ 42.046875 3.421875 37.71875 1 \r\nQ 33.40625 -1.421875 27.6875 -1.421875 \r\nQ 18.265625 -1.421875 13.375 4.4375 \r\nQ 8.5 10.296875 8.5 21.578125 \r\nz\r\nM 31.109375 56 \r\nz\r\n\" id=\"DejaVuSans-117\"/>\r\n      <path d=\"M 45.40625 27.984375 \r\nQ 45.40625 37.75 41.375 43.109375 \r\nQ 37.359375 48.484375 30.078125 48.484375 \r\nQ 22.859375 48.484375 18.828125 43.109375 \r\nQ 14.796875 37.75 14.796875 27.984375 \r\nQ 14.796875 18.265625 18.828125 12.890625 \r\nQ 22.859375 7.515625 30.078125 7.515625 \r\nQ 37.359375 7.515625 41.375 12.890625 \r\nQ 45.40625 18.265625 45.40625 27.984375 \r\nz\r\nM 54.390625 6.78125 \r\nQ 54.390625 -7.171875 48.1875 -13.984375 \r\nQ 42 -20.796875 29.203125 -20.796875 \r\nQ 24.46875 -20.796875 20.265625 -20.09375 \r\nQ 16.0625 -19.390625 12.109375 -17.921875 \r\nL 12.109375 -9.1875 \r\nQ 16.0625 -11.328125 19.921875 -12.34375 \r\nQ 23.78125 -13.375 27.78125 -13.375 \r\nQ 36.625 -13.375 41.015625 -8.765625 \r\nQ 45.40625 -4.15625 45.40625 5.171875 \r\nL 45.40625 9.625 \r\nQ 42.625 4.78125 38.28125 2.390625 \r\nQ 33.9375 0 27.875 0 \r\nQ 17.828125 0 11.671875 7.65625 \r\nQ 5.515625 15.328125 5.515625 27.984375 \r\nQ 5.515625 40.671875 11.671875 48.328125 \r\nQ 17.828125 56 27.875 56 \r\nQ 33.9375 56 38.28125 53.609375 \r\nQ 42.625 51.21875 45.40625 46.390625 \r\nL 45.40625 54.6875 \r\nL 54.390625 54.6875 \r\nz\r\n\" id=\"DejaVuSans-103\"/>\r\n      <path d=\"M 9.421875 54.6875 \r\nL 18.40625 54.6875 \r\nL 18.40625 0 \r\nL 9.421875 0 \r\nz\r\nM 9.421875 75.984375 \r\nL 18.40625 75.984375 \r\nL 18.40625 64.59375 \r\nL 9.421875 64.59375 \r\nz\r\n\" id=\"DejaVuSans-105\"/>\r\n      <path d=\"M 44.28125 53.078125 \r\nL 44.28125 44.578125 \r\nQ 40.484375 46.53125 36.375 47.5 \r\nQ 32.28125 48.484375 27.875 48.484375 \r\nQ 21.1875 48.484375 17.84375 46.4375 \r\nQ 14.5 44.390625 14.5 40.28125 \r\nQ 14.5 37.15625 16.890625 35.375 \r\nQ 19.28125 33.59375 26.515625 31.984375 \r\nL 29.59375 31.296875 \r\nQ 39.15625 29.25 43.1875 25.515625 \r\nQ 47.21875 21.78125 47.21875 15.09375 \r\nQ 47.21875 7.46875 41.1875 3.015625 \r\nQ 35.15625 -1.421875 24.609375 -1.421875 \r\nQ 20.21875 -1.421875 15.453125 -0.5625 \r\nQ 10.6875 0.296875 5.421875 2 \r\nL 5.421875 11.28125 \r\nQ 10.40625 8.6875 15.234375 7.390625 \r\nQ 20.0625 6.109375 24.8125 6.109375 \r\nQ 31.15625 6.109375 34.5625 8.28125 \r\nQ 37.984375 10.453125 37.984375 14.40625 \r\nQ 37.984375 18.0625 35.515625 20.015625 \r\nQ 33.0625 21.96875 24.703125 23.78125 \r\nL 21.578125 24.515625 \r\nQ 13.234375 26.265625 9.515625 29.90625 \r\nQ 5.8125 33.546875 5.8125 39.890625 \r\nQ 5.8125 47.609375 11.28125 51.796875 \r\nQ 16.75 56 26.8125 56 \r\nQ 31.78125 56 36.171875 55.265625 \r\nQ 40.578125 54.546875 44.28125 53.078125 \r\nz\r\n\" id=\"DejaVuSans-115\"/>\r\n      <path d=\"M 18.109375 8.203125 \r\nL 18.109375 -20.796875 \r\nL 9.078125 -20.796875 \r\nL 9.078125 54.6875 \r\nL 18.109375 54.6875 \r\nL 18.109375 46.390625 \r\nQ 20.953125 51.265625 25.265625 53.625 \r\nQ 29.59375 56 35.59375 56 \r\nQ 45.5625 56 51.78125 48.09375 \r\nQ 58.015625 40.1875 58.015625 27.296875 \r\nQ 58.015625 14.40625 51.78125 6.484375 \r\nQ 45.5625 -1.421875 35.59375 -1.421875 \r\nQ 29.59375 -1.421875 25.265625 0.953125 \r\nQ 20.953125 3.328125 18.109375 8.203125 \r\nz\r\nM 48.6875 27.296875 \r\nQ 48.6875 37.203125 44.609375 42.84375 \r\nQ 40.53125 48.484375 33.40625 48.484375 \r\nQ 26.265625 48.484375 22.1875 42.84375 \r\nQ 18.109375 37.203125 18.109375 27.296875 \r\nQ 18.109375 17.390625 22.1875 11.75 \r\nQ 26.265625 6.109375 33.40625 6.109375 \r\nQ 40.53125 6.109375 44.609375 11.75 \r\nQ 48.6875 17.390625 48.6875 27.296875 \r\nz\r\n\" id=\"DejaVuSans-112\"/>\r\n      <path d=\"M 41.109375 46.296875 \r\nQ 39.59375 47.171875 37.8125 47.578125 \r\nQ 36.03125 48 33.890625 48 \r\nQ 26.265625 48 22.1875 43.046875 \r\nQ 18.109375 38.09375 18.109375 28.8125 \r\nL 18.109375 0 \r\nL 9.078125 0 \r\nL 9.078125 54.6875 \r\nL 18.109375 54.6875 \r\nL 18.109375 46.1875 \r\nQ 20.953125 51.171875 25.484375 53.578125 \r\nQ 30.03125 56 36.53125 56 \r\nQ 37.453125 56 38.578125 55.875 \r\nQ 39.703125 55.765625 41.0625 55.515625 \r\nz\r\n\" id=\"DejaVuSans-114\"/>\r\n      <path d=\"M 32.171875 -5.078125 \r\nQ 28.375 -14.84375 24.75 -17.8125 \r\nQ 21.140625 -20.796875 15.09375 -20.796875 \r\nL 7.90625 -20.796875 \r\nL 7.90625 -13.28125 \r\nL 13.1875 -13.28125 \r\nQ 16.890625 -13.28125 18.9375 -11.515625 \r\nQ 21 -9.765625 23.484375 -3.21875 \r\nL 25.09375 0.875 \r\nL 2.984375 54.6875 \r\nL 12.5 54.6875 \r\nL 29.59375 11.921875 \r\nL 46.6875 54.6875 \r\nL 56.203125 54.6875 \r\nz\r\n\" id=\"DejaVuSans-121\"/>\r\n      <path d=\"M 52 44.1875 \r\nQ 55.375 50.25 60.0625 53.125 \r\nQ 64.75 56 71.09375 56 \r\nQ 79.640625 56 84.28125 50.015625 \r\nQ 88.921875 44.046875 88.921875 33.015625 \r\nL 88.921875 0 \r\nL 79.890625 0 \r\nL 79.890625 32.71875 \r\nQ 79.890625 40.578125 77.09375 44.375 \r\nQ 74.3125 48.1875 68.609375 48.1875 \r\nQ 61.625 48.1875 57.5625 43.546875 \r\nQ 53.515625 38.921875 53.515625 30.90625 \r\nL 53.515625 0 \r\nL 44.484375 0 \r\nL 44.484375 32.71875 \r\nQ 44.484375 40.625 41.703125 44.40625 \r\nQ 38.921875 48.1875 33.109375 48.1875 \r\nQ 26.21875 48.1875 22.15625 43.53125 \r\nQ 18.109375 38.875 18.109375 30.90625 \r\nL 18.109375 0 \r\nL 9.078125 0 \r\nL 9.078125 54.6875 \r\nL 18.109375 54.6875 \r\nL 18.109375 46.1875 \r\nQ 21.1875 51.21875 25.484375 53.609375 \r\nQ 29.78125 56 35.6875 56 \r\nQ 41.65625 56 45.828125 52.96875 \r\nQ 50 49.953125 52 44.1875 \r\nz\r\n\" id=\"DejaVuSans-109\"/>\r\n      <path d=\"M 31 75.875 \r\nQ 24.46875 64.65625 21.28125 53.65625 \r\nQ 18.109375 42.671875 18.109375 31.390625 \r\nQ 18.109375 20.125 21.3125 9.0625 \r\nQ 24.515625 -2 31 -13.1875 \r\nL 23.1875 -13.1875 \r\nQ 15.875 -1.703125 12.234375 9.375 \r\nQ 8.59375 20.453125 8.59375 31.390625 \r\nQ 8.59375 42.28125 12.203125 53.3125 \r\nQ 15.828125 64.359375 23.1875 75.875 \r\nz\r\n\" id=\"DejaVuSans-40\"/>\r\n      <path d=\"M 8.015625 75.875 \r\nL 15.828125 75.875 \r\nQ 23.140625 64.359375 26.78125 53.3125 \r\nQ 30.421875 42.28125 30.421875 31.390625 \r\nQ 30.421875 20.453125 26.78125 9.375 \r\nQ 23.140625 -1.703125 15.828125 -13.1875 \r\nL 8.015625 -13.1875 \r\nQ 14.5 -2 17.703125 9.0625 \r\nQ 20.90625 20.125 20.90625 31.390625 \r\nQ 20.90625 42.671875 17.703125 53.65625 \r\nQ 14.5 64.65625 8.015625 75.875 \r\nz\r\n\" id=\"DejaVuSans-41\"/>\r\n     </defs>\r\n     <use xlink:href=\"#DejaVuSans-80\"/>\r\n     <use x=\"60.302734\" xlink:href=\"#DejaVuSans-108\"/>\r\n     <use x=\"88.085938\" xlink:href=\"#DejaVuSans-111\"/>\r\n     <use x=\"149.267578\" xlink:href=\"#DejaVuSans-116\"/>\r\n     <use x=\"188.476562\" xlink:href=\"#DejaVuSans-32\"/>\r\n     <use x=\"220.263672\" xlink:href=\"#DejaVuSans-111\"/>\r\n     <use x=\"281.445312\" xlink:href=\"#DejaVuSans-102\"/>\r\n     <use x=\"316.650391\" xlink:href=\"#DejaVuSans-32\"/>\r\n     <use x=\"348.4375\" xlink:href=\"#DejaVuSans-116\"/>\r\n     <use x=\"387.646484\" xlink:href=\"#DejaVuSans-104\"/>\r\n     <use x=\"451.025391\" xlink:href=\"#DejaVuSans-101\"/>\r\n     <use x=\"512.548828\" xlink:href=\"#DejaVuSans-32\"/>\r\n     <use x=\"544.335938\" xlink:href=\"#DejaVuSans-108\"/>\r\n     <use x=\"572.119141\" xlink:href=\"#DejaVuSans-111\"/>\r\n     <use x=\"633.300781\" xlink:href=\"#DejaVuSans-97\"/>\r\n     <use x=\"694.580078\" xlink:href=\"#DejaVuSans-110\"/>\r\n     <use x=\"757.958984\" xlink:href=\"#DejaVuSans-32\"/>\r\n     <use x=\"789.746094\" xlink:href=\"#DejaVuSans-116\"/>\r\n     <use x=\"828.955078\" xlink:href=\"#DejaVuSans-111\"/>\r\n     <use x=\"890.136719\" xlink:href=\"#DejaVuSans-32\"/>\r\n     <use x=\"921.923828\" xlink:href=\"#DejaVuSans-118\"/>\r\n     <use x=\"981.103516\" xlink:href=\"#DejaVuSans-97\"/>\r\n     <use x=\"1042.382812\" xlink:href=\"#DejaVuSans-108\"/>\r\n     <use x=\"1070.166016\" xlink:href=\"#DejaVuSans-117\"/>\r\n     <use x=\"1133.544922\" xlink:href=\"#DejaVuSans-101\"/>\r\n     <use x=\"1195.068359\" xlink:href=\"#DejaVuSans-32\"/>\r\n     <use x=\"1226.855469\" xlink:href=\"#DejaVuSans-97\"/>\r\n     <use x=\"1288.134766\" xlink:href=\"#DejaVuSans-103\"/>\r\n     <use x=\"1351.611328\" xlink:href=\"#DejaVuSans-97\"/>\r\n     <use x=\"1412.890625\" xlink:href=\"#DejaVuSans-105\"/>\r\n     <use x=\"1440.673828\" xlink:href=\"#DejaVuSans-110\"/>\r\n     <use x=\"1504.052734\" xlink:href=\"#DejaVuSans-115\"/>\r\n     <use x=\"1556.152344\" xlink:href=\"#DejaVuSans-116\"/>\r\n     <use x=\"1595.361328\" xlink:href=\"#DejaVuSans-32\"/>\r\n     <use x=\"1627.148438\" xlink:href=\"#DejaVuSans-116\"/>\r\n     <use x=\"1666.357422\" xlink:href=\"#DejaVuSans-104\"/>\r\n     <use x=\"1729.736328\" xlink:href=\"#DejaVuSans-101\"/>\r\n     <use x=\"1791.259766\" xlink:href=\"#DejaVuSans-32\"/>\r\n     <use x=\"1823.046875\" xlink:href=\"#DejaVuSans-112\"/>\r\n     <use x=\"1886.523438\" xlink:href=\"#DejaVuSans-114\"/>\r\n     <use x=\"1925.386719\" xlink:href=\"#DejaVuSans-101\"/>\r\n     <use x=\"1986.910156\" xlink:href=\"#DejaVuSans-112\"/>\r\n     <use x=\"2050.386719\" xlink:href=\"#DejaVuSans-97\"/>\r\n     <use x=\"2111.666016\" xlink:href=\"#DejaVuSans-121\"/>\r\n     <use x=\"2170.845703\" xlink:href=\"#DejaVuSans-109\"/>\r\n     <use x=\"2268.257812\" xlink:href=\"#DejaVuSans-101\"/>\r\n     <use x=\"2329.78125\" xlink:href=\"#DejaVuSans-110\"/>\r\n     <use x=\"2393.160156\" xlink:href=\"#DejaVuSans-116\"/>\r\n     <use x=\"2432.369141\" xlink:href=\"#DejaVuSans-115\"/>\r\n     <use x=\"2484.46875\" xlink:href=\"#DejaVuSans-32\"/>\r\n     <use x=\"2516.255859\" xlink:href=\"#DejaVuSans-40\"/>\r\n     <use x=\"2555.269531\" xlink:href=\"#DejaVuSans-102\"/>\r\n     <use x=\"2590.474609\" xlink:href=\"#DejaVuSans-117\"/>\r\n     <use x=\"2653.853516\" xlink:href=\"#DejaVuSans-108\"/>\r\n     <use x=\"2681.636719\" xlink:href=\"#DejaVuSans-108\"/>\r\n     <use x=\"2709.419922\" xlink:href=\"#DejaVuSans-41\"/>\r\n    </g>\r\n   </g>\r\n   <g id=\"legend_1\">\r\n    <g id=\"patch_7\">\r\n     <path d=\"M 46.65 105.099375 \r\nL 166.925 105.099375 \r\nQ 168.925 105.099375 168.925 103.099375 \r\nL 168.925 29.318125 \r\nQ 168.925 27.318125 166.925 27.318125 \r\nL 46.65 27.318125 \r\nQ 44.65 27.318125 44.65 29.318125 \r\nL 44.65 103.099375 \r\nQ 44.65 105.099375 46.65 105.099375 \r\nz\r\n\" style=\"fill:#ffffff;opacity:0.8;stroke:#cccccc;stroke-linejoin:miter;\"/>\r\n    </g>\r\n    <g id=\"line2d_17\">\r\n     <path d=\"M 48.65 35.416562 \r\nL 68.65 35.416562 \r\n\" style=\"fill:none;stroke:#1f77b4;stroke-linecap:square;stroke-width:1.5;\"/>\r\n    </g>\r\n    <g id=\"line2d_18\"/>\r\n    <g id=\"text_14\">\r\n     <!-- id_loan -->\r\n     <g transform=\"translate(76.65 38.916562)scale(0.1 -0.1)\">\r\n      <defs>\r\n       <path d=\"M 45.40625 46.390625 \r\nL 45.40625 75.984375 \r\nL 54.390625 75.984375 \r\nL 54.390625 0 \r\nL 45.40625 0 \r\nL 45.40625 8.203125 \r\nQ 42.578125 3.328125 38.25 0.953125 \r\nQ 33.9375 -1.421875 27.875 -1.421875 \r\nQ 17.96875 -1.421875 11.734375 6.484375 \r\nQ 5.515625 14.40625 5.515625 27.296875 \r\nQ 5.515625 40.1875 11.734375 48.09375 \r\nQ 17.96875 56 27.875 56 \r\nQ 33.9375 56 38.25 53.625 \r\nQ 42.578125 51.265625 45.40625 46.390625 \r\nz\r\nM 14.796875 27.296875 \r\nQ 14.796875 17.390625 18.875 11.75 \r\nQ 22.953125 6.109375 30.078125 6.109375 \r\nQ 37.203125 6.109375 41.296875 11.75 \r\nQ 45.40625 17.390625 45.40625 27.296875 \r\nQ 45.40625 37.203125 41.296875 42.84375 \r\nQ 37.203125 48.484375 30.078125 48.484375 \r\nQ 22.953125 48.484375 18.875 42.84375 \r\nQ 14.796875 37.203125 14.796875 27.296875 \r\nz\r\n\" id=\"DejaVuSans-100\"/>\r\n       <path d=\"M 50.984375 -16.609375 \r\nL 50.984375 -23.578125 \r\nL -0.984375 -23.578125 \r\nL -0.984375 -16.609375 \r\nz\r\n\" id=\"DejaVuSans-95\"/>\r\n      </defs>\r\n      <use xlink:href=\"#DejaVuSans-105\"/>\r\n      <use x=\"27.783203\" xlink:href=\"#DejaVuSans-100\"/>\r\n      <use x=\"91.259766\" xlink:href=\"#DejaVuSans-95\"/>\r\n      <use x=\"141.259766\" xlink:href=\"#DejaVuSans-108\"/>\r\n      <use x=\"169.042969\" xlink:href=\"#DejaVuSans-111\"/>\r\n      <use x=\"230.224609\" xlink:href=\"#DejaVuSans-97\"/>\r\n      <use x=\"291.503906\" xlink:href=\"#DejaVuSans-110\"/>\r\n     </g>\r\n    </g>\r\n    <g id=\"line2d_19\">\r\n     <path d=\"M 48.65 50.372813 \r\nL 68.65 50.372813 \r\n\" style=\"fill:none;stroke:#ff7f0e;stroke-linecap:square;stroke-width:1.5;\"/>\r\n    </g>\r\n    <g id=\"line2d_20\"/>\r\n    <g id=\"text_15\">\r\n     <!-- loan_purpose_C -->\r\n     <g transform=\"translate(76.65 53.872813)scale(0.1 -0.1)\">\r\n      <defs>\r\n       <path d=\"M 64.40625 67.28125 \r\nL 64.40625 56.890625 \r\nQ 59.421875 61.53125 53.78125 63.8125 \r\nQ 48.140625 66.109375 41.796875 66.109375 \r\nQ 29.296875 66.109375 22.65625 58.46875 \r\nQ 16.015625 50.828125 16.015625 36.375 \r\nQ 16.015625 21.96875 22.65625 14.328125 \r\nQ 29.296875 6.6875 41.796875 6.6875 \r\nQ 48.140625 6.6875 53.78125 8.984375 \r\nQ 59.421875 11.28125 64.40625 15.921875 \r\nL 64.40625 5.609375 \r\nQ 59.234375 2.09375 53.4375 0.328125 \r\nQ 47.65625 -1.421875 41.21875 -1.421875 \r\nQ 24.65625 -1.421875 15.125 8.703125 \r\nQ 5.609375 18.84375 5.609375 36.375 \r\nQ 5.609375 53.953125 15.125 64.078125 \r\nQ 24.65625 74.21875 41.21875 74.21875 \r\nQ 47.75 74.21875 53.53125 72.484375 \r\nQ 59.328125 70.75 64.40625 67.28125 \r\nz\r\n\" id=\"DejaVuSans-67\"/>\r\n      </defs>\r\n      <use xlink:href=\"#DejaVuSans-108\"/>\r\n      <use x=\"27.783203\" xlink:href=\"#DejaVuSans-111\"/>\r\n      <use x=\"88.964844\" xlink:href=\"#DejaVuSans-97\"/>\r\n      <use x=\"150.244141\" xlink:href=\"#DejaVuSans-110\"/>\r\n      <use x=\"213.623047\" xlink:href=\"#DejaVuSans-95\"/>\r\n      <use x=\"263.623047\" xlink:href=\"#DejaVuSans-112\"/>\r\n      <use x=\"327.099609\" xlink:href=\"#DejaVuSans-117\"/>\r\n      <use x=\"390.478516\" xlink:href=\"#DejaVuSans-114\"/>\r\n      <use x=\"431.591797\" xlink:href=\"#DejaVuSans-112\"/>\r\n      <use x=\"495.068359\" xlink:href=\"#DejaVuSans-111\"/>\r\n      <use x=\"556.25\" xlink:href=\"#DejaVuSans-115\"/>\r\n      <use x=\"608.349609\" xlink:href=\"#DejaVuSans-101\"/>\r\n      <use x=\"669.873047\" xlink:href=\"#DejaVuSans-95\"/>\r\n      <use x=\"719.873047\" xlink:href=\"#DejaVuSans-67\"/>\r\n     </g>\r\n    </g>\r\n    <g id=\"line2d_21\">\r\n     <path d=\"M 48.65 65.329062 \r\nL 68.65 65.329062 \r\n\" style=\"fill:none;stroke:#2ca02c;stroke-linecap:square;stroke-width:1.5;\"/>\r\n    </g>\r\n    <g id=\"line2d_22\"/>\r\n    <g id=\"text_16\">\r\n     <!-- orig_upb -->\r\n     <g transform=\"translate(76.65 68.829062)scale(0.1 -0.1)\">\r\n      <defs>\r\n       <path d=\"M 48.6875 27.296875 \r\nQ 48.6875 37.203125 44.609375 42.84375 \r\nQ 40.53125 48.484375 33.40625 48.484375 \r\nQ 26.265625 48.484375 22.1875 42.84375 \r\nQ 18.109375 37.203125 18.109375 27.296875 \r\nQ 18.109375 17.390625 22.1875 11.75 \r\nQ 26.265625 6.109375 33.40625 6.109375 \r\nQ 40.53125 6.109375 44.609375 11.75 \r\nQ 48.6875 17.390625 48.6875 27.296875 \r\nz\r\nM 18.109375 46.390625 \r\nQ 20.953125 51.265625 25.265625 53.625 \r\nQ 29.59375 56 35.59375 56 \r\nQ 45.5625 56 51.78125 48.09375 \r\nQ 58.015625 40.1875 58.015625 27.296875 \r\nQ 58.015625 14.40625 51.78125 6.484375 \r\nQ 45.5625 -1.421875 35.59375 -1.421875 \r\nQ 29.59375 -1.421875 25.265625 0.953125 \r\nQ 20.953125 3.328125 18.109375 8.203125 \r\nL 18.109375 0 \r\nL 9.078125 0 \r\nL 9.078125 75.984375 \r\nL 18.109375 75.984375 \r\nz\r\n\" id=\"DejaVuSans-98\"/>\r\n      </defs>\r\n      <use xlink:href=\"#DejaVuSans-111\"/>\r\n      <use x=\"61.181641\" xlink:href=\"#DejaVuSans-114\"/>\r\n      <use x=\"102.294922\" xlink:href=\"#DejaVuSans-105\"/>\r\n      <use x=\"130.078125\" xlink:href=\"#DejaVuSans-103\"/>\r\n      <use x=\"193.554688\" xlink:href=\"#DejaVuSans-95\"/>\r\n      <use x=\"243.554688\" xlink:href=\"#DejaVuSans-117\"/>\r\n      <use x=\"306.933594\" xlink:href=\"#DejaVuSans-112\"/>\r\n      <use x=\"370.410156\" xlink:href=\"#DejaVuSans-98\"/>\r\n     </g>\r\n    </g>\r\n    <g id=\"line2d_23\">\r\n     <path d=\"M 48.65 80.285313 \r\nL 68.65 80.285313 \r\n\" style=\"fill:none;stroke:#d62728;stroke-linecap:square;stroke-width:1.5;\"/>\r\n    </g>\r\n    <g id=\"line2d_24\"/>\r\n    <g id=\"text_17\">\r\n     <!-- prepayment_type -->\r\n     <g transform=\"translate(76.65 83.785313)scale(0.1 -0.1)\">\r\n      <use xlink:href=\"#DejaVuSans-112\"/>\r\n      <use x=\"63.476562\" xlink:href=\"#DejaVuSans-114\"/>\r\n      <use x=\"102.339844\" xlink:href=\"#DejaVuSans-101\"/>\r\n      <use x=\"163.863281\" xlink:href=\"#DejaVuSans-112\"/>\r\n      <use x=\"227.339844\" xlink:href=\"#DejaVuSans-97\"/>\r\n      <use x=\"288.619141\" xlink:href=\"#DejaVuSans-121\"/>\r\n      <use x=\"347.798828\" xlink:href=\"#DejaVuSans-109\"/>\r\n      <use x=\"445.210938\" xlink:href=\"#DejaVuSans-101\"/>\r\n      <use x=\"506.734375\" xlink:href=\"#DejaVuSans-110\"/>\r\n      <use x=\"570.113281\" xlink:href=\"#DejaVuSans-116\"/>\r\n      <use x=\"609.322266\" xlink:href=\"#DejaVuSans-95\"/>\r\n      <use x=\"659.322266\" xlink:href=\"#DejaVuSans-116\"/>\r\n      <use x=\"698.53125\" xlink:href=\"#DejaVuSans-121\"/>\r\n      <use x=\"757.710938\" xlink:href=\"#DejaVuSans-112\"/>\r\n      <use x=\"821.1875\" xlink:href=\"#DejaVuSans-101\"/>\r\n     </g>\r\n    </g>\r\n    <g id=\"line2d_25\">\r\n     <path d=\"M 48.65 95.241562 \r\nL 68.65 95.241562 \r\n\" style=\"fill:none;stroke:#9467bd;stroke-linecap:square;stroke-width:1.5;\"/>\r\n    </g>\r\n    <g id=\"line2d_26\"/>\r\n    <g id=\"text_18\">\r\n     <!-- prepayment_flag -->\r\n     <g transform=\"translate(76.65 98.741562)scale(0.1 -0.1)\">\r\n      <use xlink:href=\"#DejaVuSans-112\"/>\r\n      <use x=\"63.476562\" xlink:href=\"#DejaVuSans-114\"/>\r\n      <use x=\"102.339844\" xlink:href=\"#DejaVuSans-101\"/>\r\n      <use x=\"163.863281\" xlink:href=\"#DejaVuSans-112\"/>\r\n      <use x=\"227.339844\" xlink:href=\"#DejaVuSans-97\"/>\r\n      <use x=\"288.619141\" xlink:href=\"#DejaVuSans-121\"/>\r\n      <use x=\"347.798828\" xlink:href=\"#DejaVuSans-109\"/>\r\n      <use x=\"445.210938\" xlink:href=\"#DejaVuSans-101\"/>\r\n      <use x=\"506.734375\" xlink:href=\"#DejaVuSans-110\"/>\r\n      <use x=\"570.113281\" xlink:href=\"#DejaVuSans-116\"/>\r\n      <use x=\"609.322266\" xlink:href=\"#DejaVuSans-95\"/>\r\n      <use x=\"659.322266\" xlink:href=\"#DejaVuSans-102\"/>\r\n      <use x=\"694.527344\" xlink:href=\"#DejaVuSans-108\"/>\r\n      <use x=\"722.310547\" xlink:href=\"#DejaVuSans-97\"/>\r\n      <use x=\"783.589844\" xlink:href=\"#DejaVuSans-103\"/>\r\n     </g>\r\n    </g>\r\n   </g>\r\n  </g>\r\n </g>\r\n <defs>\r\n  <clipPath id=\"pc98bca735e\">\r\n   <rect height=\"217.44\" width=\"334.8\" x=\"39.65\" y=\"22.318125\"/>\r\n  </clipPath>\r\n </defs>\r\n</svg>\r\n",
      "image/png": "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\n"
     },
     "metadata": {
      "needs_background": "light"
     }
    }
   ],
   "source": [
    "fig, ax = plt.subplots()\n",
    "dfCount.plot(ax=ax)\n",
    "ax.set_title(\"Plot of the loan to value against the prepayments (full)\")"
   ]
  },
  {
   "cell_type": "code",
   "execution_count": 8,
   "metadata": {},
   "outputs": [
    {
     "data": {
      "text/plain": [
       "Text(0, 0.5, 'Number of observations')"
      ]
     },
     "execution_count": 8,
     "metadata": {},
     "output_type": "execute_result"
    },
    {
     "data": {
      "image/png": "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\n",
      "text/plain": [
       "<Figure size 432x288 with 1 Axes>"
      ]
     },
     "metadata": {
      "needs_background": "light"
     },
     "output_type": "display_data"
    }
   ],
   "source": [
    "fig, ax = plt.subplots()\n",
    "mpl.rcParams['font.size']=15\n",
    "dfSum[\"Full\"].plot(ax=ax)\n",
    "dfSum[\"Partial\"].plot(ax=ax)\n",
    "#ax.set_title(\"Plot of the loan to value \\n against the prepayments\")\n",
    "ax.legend([\"Full\",\"Partial\"])\n",
    "plt.ylabel(\"Number of observations\")"
   ]
  },
  {
   "cell_type": "code",
   "execution_count": null,
   "metadata": {},
   "outputs": [],
   "source": [
    "#fig, ax = plt.subplots()\n",
    "#dfSum[ColumnNames.Partial].plot(ax=ax)\n",
    "#ax.set_title(\"Plot of the loan to value against the prepayments (partial)\")"
   ]
  },
  {
   "cell_type": "markdown",
   "metadata": {},
   "source": [
    "Loan to value = $\\dfrac{loan}{purchase\\_price}$ this implies that if for high purchase prices the loan to value is a risk driver, it may so for high original upbs.\n",
    "\n",
    "Let us compare the upb as a group and plot the aggregated sum of the prepayments. "
   ]
  },
  {
   "cell_type": "code",
   "execution_count": null,
   "metadata": {},
   "outputs": [],
   "source": [
    "dfUpbGroup = dfTakeALook.groupby(ColumnNames.Upb)\n",
    "dfSumUpb = dfUpbGroup.sum()"
   ]
  },
  {
   "cell_type": "code",
   "execution_count": null,
   "metadata": {},
   "outputs": [],
   "source": [
    "fig, ax = plt.subplots()\n",
    "dfSumUpb[ColumnNames.Full].plot(ax=ax)\n",
    "ax.set_title(\"Plot of the upb against the summed prepayments (full)\")"
   ]
  },
  {
   "cell_type": "code",
   "execution_count": null,
   "metadata": {},
   "outputs": [],
   "source": [
    "fig, ax = plt.subplots()\n",
    "dfSumUpb[ColumnNames.Partial].plot(ax=ax)\n",
    "ax.set_title(\"Plot of the upb against the summed prepayments (partial)\")"
   ]
  },
  {
   "cell_type": "markdown",
   "metadata": {},
   "source": [
    "We see that here, that just lower mortgages seem to prepay more. This is in constrast with the earlier \n",
    "observations of the loan to value parameter.\n",
    "\n",
    "From this we can see that for low loan amounts and a high loan to value score the clients seem to prepay more often.\n",
    "Let us check this for multiple years; "
   ]
  },
  {
   "cell_type": "code",
   "execution_count": null,
   "metadata": {},
   "outputs": [],
   "source": [
    "def plot_column(df, year, ax, partial=True, ltv=True):\n",
    "    titlePrefix = f\"[{year}] -- Plot of the upb against the summed prepayments\"\n",
    "    if(partial):\n",
    "        title = f\"{titlePrefix}_partial\"\n",
    "        feature = ColumnNames.Partial\n",
    "    else:\n",
    "        title = f\"{titlePrefix}_full\"\n",
    "        feature = ColumnNames.Full\n",
    "\n",
    "    if(ltv):\n",
    "        title = f\"{title}_for_ltv\"\n",
    "\n",
    "    else:\n",
    "        title = f\"{titlePrefix}_full\"\n",
    "\n",
    "    df[feature].plot(ax=ax)\n",
    "    ax.set_title(title)"
   ]
  },
  {
   "cell_type": "code",
   "execution_count": null,
   "metadata": {},
   "outputs": [],
   "source": [
    "years = range(2013, 2021)\n",
    "nrows = 8\n",
    "ncols = 4\n",
    "fig, axs = plt.subplots(nrows=nrows, ncols=ncols, figsize=(5*nrows, 5*ncols))\n",
    "i = 0\n",
    "for year in years:\n",
    "    dfOrig = dataBuilder.build_data_set(years=[year])\n",
    "    dfTakeALook = dfOrig[columns]\n",
    "    \n",
    "    dfGroupedLtv = dfTakeALook.groupby(\"ltv\")\n",
    "    dfSumLtv = dfGroupedLtv.sum()\n",
    "\n",
    "    dfUpbGroup = dfTakeALook.groupby(ColumnNames.Upb)\n",
    "    dfSumUpb = dfUpbGroup.sum()\n",
    "\n",
    "\n",
    "    plot_column(dfSumUpb, year, ax=axs[i, 0], partial=True, ltv=False)\n",
    "    plot_column(dfSumUpb, year, ax=axs[i, 1], partial=False, ltv=False)\n",
    "\n",
    "    plot_column(dfSumLtv, year, ax=axs[i, 2], partial=True, ltv=True)\n",
    "    plot_column(dfSumLtv, year, ax=axs[i, 3], partial=False, ltv=True)\n",
    "\n",
    "    i += 1\n",
    "\n",
    "fig.tight_layout()"
   ]
  },
  {
   "cell_type": "code",
   "execution_count": null,
   "metadata": {
    "scrolled": true
   },
   "outputs": [],
   "source": [
    "\n",
    "dfOrig = dataBuilder.build_data_set(years=range(2013, 2021))\n",
    "dfTakeALook = dfOrig[columns]"
   ]
  },
  {
   "cell_type": "code",
   "execution_count": null,
   "metadata": {},
   "outputs": [],
   "source": [
    "dfPPM = dfTakeALook[dfTakeALook[ColumnNames.Full] == 1]\n",
    "dfNoPPM = dfTakeALook[dfTakeALook[ColumnNames.Full] == 0]\n",
    "\n",
    "fig, axs = plt.subplots(ncols=2, nrows=1, figsize=(10, 5))\n",
    "axs[0].boxplot(dfPPM[ColumnNames.Upb])\n",
    "axs[0].set_title(\"Upbs of prepayment data\")\n",
    "axs[1].boxplot(dfNoPPM[ColumnNames.Upb])\n",
    "axs[1].set_title(\"Upbs of no prepayment data\")"
   ]
  },
  {
   "cell_type": "code",
   "execution_count": null,
   "metadata": {},
   "outputs": [],
   "source": [
    "import DependenceTests as test"
   ]
  },
  {
   "cell_type": "code",
   "execution_count": null,
   "metadata": {},
   "outputs": [],
   "source": [
    "test.ks_test_two_df(dfPPM, dfNoPPM, [ColumnNames.Upb])"
   ]
  },
  {
   "cell_type": "code",
   "execution_count": null,
   "metadata": {},
   "outputs": [],
   "source": [
    "dfPPM = dfTakeALook[dfTakeALook[ColumnNames.Full] == 1]\n",
    "dfNoPPM = dfTakeALook[dfTakeALook[ColumnNames.Full] == 0]\n",
    "\n",
    "fig, axs = plt.subplots(ncols=2, nrows=1, figsize=(10, 5))\n",
    "axs[0].boxplot(dfPPM[ColumnNames.Ltv])\n",
    "axs[0].set_title(\"loan to value of prepayment data\")\n",
    "axs[1].boxplot(dfNoPPM[ColumnNames.Upb])\n",
    "axs[1].set_title(\"loan to value of no prepayment data\")"
   ]
  },
  {
   "cell_type": "code",
   "execution_count": null,
   "metadata": {},
   "outputs": [],
   "source": [
    "test.ks_test_two_df(dfPPM, dfNoPPM, [ColumnNames.Ltv])"
   ]
  },
  {
   "cell_type": "code",
   "execution_count": null,
   "metadata": {},
   "outputs": [],
   "source": []
  }
 ],
 "metadata": {
  "kernelspec": {
   "name": "python371jvsc74a57bd0b3ba2566441a7c06988d0923437866b63cedc61552a5af99d1f4fb67d367b25f",
   "display_name": "Python 3.7.1 64-bit ('base': conda)"
  },
  "language_info": {
   "codemirror_mode": {
    "name": "ipython",
    "version": 3
   },
   "file_extension": ".py",
   "mimetype": "text/x-python",
   "name": "python",
   "nbconvert_exporter": "python",
   "pygments_lexer": "ipython3",
   "version": "3.7.1"
  }
 },
 "nbformat": 4,
 "nbformat_minor": 2
}